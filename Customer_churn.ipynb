{
  "nbformat": 4,
  "nbformat_minor": 0,
  "metadata": {
    "colab": {
      "name": "Customer_churn.ipynb",
      "provenance": [],
      "collapsed_sections": [],
      "mount_file_id": "10q9e3zVXvWQeflZiATo3byd-uuMlb0J4",
      "authorship_tag": "ABX9TyOW6v/7LKsYDG4VUZmPLr5T",
      "include_colab_link": true
    },
    "kernelspec": {
      "name": "python3",
      "display_name": "Python 3"
    },
    "language_info": {
      "name": "python"
    },
    "accelerator": "GPU"
  },
  "cells": [
    {
      "cell_type": "markdown",
      "metadata": {
        "id": "view-in-github",
        "colab_type": "text"
      },
      "source": [
        "<a href=\"https://colab.research.google.com/github/Shubhangi2612/CustomerChurn/blob/main/Customer_churn.ipynb\" target=\"_parent\"><img src=\"https://colab.research.google.com/assets/colab-badge.svg\" alt=\"Open In Colab\"/></a>"
      ]
    },
    {
      "cell_type": "code",
      "metadata": {
        "colab": {
          "base_uri": "https://localhost:8080/"
        },
        "id": "78OmtRPSCjUP",
        "outputId": "1667098b-6c0f-469d-ce3a-87081b0d60c6"
      },
      "source": [
        "pip install six\n"
      ],
      "execution_count": 9,
      "outputs": [
        {
          "output_type": "stream",
          "name": "stdout",
          "text": [
            "Requirement already satisfied: six in /usr/local/lib/python3.7/dist-packages (1.15.0)\n"
          ]
        }
      ]
    },
    {
      "cell_type": "code",
      "metadata": {
        "id": "9y7yipw0HDIL"
      },
      "source": [
        "!pip install pandas-profiling==2.7.1\n"
      ],
      "execution_count": null,
      "outputs": []
    },
    {
      "cell_type": "code",
      "metadata": {
        "id": "XREVKHL8HLgH"
      },
      "source": [
        "!pip install --upgrade plotly"
      ],
      "execution_count": null,
      "outputs": []
    },
    {
      "cell_type": "code",
      "metadata": {
        "id": "5qKI2iYZiZdu",
        "colab": {
          "base_uri": "https://localhost:8080/"
        },
        "outputId": "5396a2cf-1e79-493c-e71a-330f73bab9cb"
      },
      "source": [
        "#import libraries\n",
        "from google.colab import drive\n",
        "import pandas as pd\n",
        "import numpy as np\n",
        "#Label encoding\n",
        "from sklearn.preprocessing import LabelEncoder\n",
        "\n",
        "##Data visualization \n",
        "import seaborn as sns\n",
        "from matplotlib import pyplot as plt\n",
        "import plotly.express as px\n",
        "\n",
        "#scaling\n",
        "from sklearn import preprocessing\n",
        "from sklearn.preprocessing import StandardScaler\n",
        "\n",
        "#data splitting\n",
        "from sklearn.model_selection import train_test_split\n",
        "\n",
        "#Accuracy metric\n",
        "from sklearn.metrics import roc_auc_score\n",
        "from sklearn.metrics import accuracy_score\n",
        "from sklearn.metrics import classification_report\n",
        "from sklearn.metrics import f1_score\n",
        "\n",
        "#Classificaton algorithm\n",
        "from sklearn.neighbors import KNeighborsClassifier\n",
        "from sklearn.ensemble import RandomForestClassifier\n",
        "from sklearn.linear_model import LogisticRegression\n",
        "from xgboost import XGBClassifier\n",
        "from xgboost.sklearn import XGBClassifier\n",
        "from sklearn import tree\n",
        "from sklearn.naive_bayes import GaussianNB\n",
        "from sklearn import svm\n",
        "from sklearn.model_selection import GridSearchCV\n",
        "from sklearn.model_selection import RandomizedSearchCV\n",
        "\n",
        "#Data balancing technique \n",
        "from imblearn.over_sampling import SMOTE\n",
        "from imblearn.combine import SMOTEENN"
      ],
      "execution_count": 1,
      "outputs": [
        {
          "output_type": "stream",
          "name": "stderr",
          "text": [
            "/usr/local/lib/python3.7/dist-packages/sklearn/externals/six.py:31: FutureWarning: The module is deprecated in version 0.21 and will be removed in version 0.23 since we've dropped support for Python 2.7. Please rely on the official version of six (https://pypi.org/project/six/).\n",
            "  \"(https://pypi.org/project/six/).\", FutureWarning)\n",
            "/usr/local/lib/python3.7/dist-packages/sklearn/utils/deprecation.py:144: FutureWarning: The sklearn.neighbors.base module is  deprecated in version 0.22 and will be removed in version 0.24. The corresponding classes / functions should instead be imported from sklearn.neighbors. Anything that cannot be imported from sklearn.neighbors is now part of the private API.\n",
            "  warnings.warn(message, FutureWarning)\n"
          ]
        }
      ]
    },
    {
      "cell_type": "code",
      "metadata": {
        "colab": {
          "base_uri": "https://localhost:8080/"
        },
        "id": "YOP3Fixih5F8",
        "outputId": "4266ce6b-76a5-4268-8847-b2eff0c0bd03"
      },
      "source": [
        "drive.mount('/content/drive')"
      ],
      "execution_count": 11,
      "outputs": [
        {
          "output_type": "stream",
          "name": "stdout",
          "text": [
            "Mounted at /content/drive\n"
          ]
        }
      ]
    },
    {
      "cell_type": "markdown",
      "metadata": {
        "id": "9IOjnLyc_ic-"
      },
      "source": [
        "\n",
        "\n",
        ">**Loading csv into dataframe**\n",
        "\n"
      ]
    },
    {
      "cell_type": "code",
      "metadata": {
        "id": "P0ul2g5biPRO"
      },
      "source": [
        "df = pd.read_csv(\"/content/drive/MyDrive/Data-Science-Collection/AIA_Churn_Modelling_Case_Study.csv\")"
      ],
      "execution_count": 2,
      "outputs": []
    },
    {
      "cell_type": "code",
      "metadata": {
        "colab": {
          "base_uri": "https://localhost:8080/",
          "height": 310
        },
        "id": "C8VFs-HrjlxG",
        "outputId": "d5824953-50d1-4c0f-9767-00ced3ac4d12"
      },
      "source": [
        "df.head()"
      ],
      "execution_count": 14,
      "outputs": [
        {
          "output_type": "execute_result",
          "data": {
            "text/html": [
              "<div>\n",
              "<style scoped>\n",
              "    .dataframe tbody tr th:only-of-type {\n",
              "        vertical-align: middle;\n",
              "    }\n",
              "\n",
              "    .dataframe tbody tr th {\n",
              "        vertical-align: top;\n",
              "    }\n",
              "\n",
              "    .dataframe thead th {\n",
              "        text-align: right;\n",
              "    }\n",
              "</style>\n",
              "<table border=\"1\" class=\"dataframe\">\n",
              "  <thead>\n",
              "    <tr style=\"text-align: right;\">\n",
              "      <th></th>\n",
              "      <th>customerID</th>\n",
              "      <th>gender</th>\n",
              "      <th>SeniorCitizen</th>\n",
              "      <th>Partner</th>\n",
              "      <th>Dependents</th>\n",
              "      <th>tenure</th>\n",
              "      <th>PhoneService</th>\n",
              "      <th>MultipleLines</th>\n",
              "      <th>InternetService</th>\n",
              "      <th>OnlineSecurity</th>\n",
              "      <th>OnlineBackup</th>\n",
              "      <th>DeviceProtection</th>\n",
              "      <th>TechSupport</th>\n",
              "      <th>StreamingTV</th>\n",
              "      <th>StreamingMovies</th>\n",
              "      <th>Contract</th>\n",
              "      <th>PaperlessBilling</th>\n",
              "      <th>PaymentMethod</th>\n",
              "      <th>MonthlyCharges</th>\n",
              "      <th>TotalCharges</th>\n",
              "      <th>Churn</th>\n",
              "    </tr>\n",
              "  </thead>\n",
              "  <tbody>\n",
              "    <tr>\n",
              "      <th>0</th>\n",
              "      <td>7590-VHVEG</td>\n",
              "      <td>Female</td>\n",
              "      <td>0</td>\n",
              "      <td>Yes</td>\n",
              "      <td>No</td>\n",
              "      <td>1</td>\n",
              "      <td>No</td>\n",
              "      <td>No phone service</td>\n",
              "      <td>DSL</td>\n",
              "      <td>No</td>\n",
              "      <td>Yes</td>\n",
              "      <td>No</td>\n",
              "      <td>No</td>\n",
              "      <td>No</td>\n",
              "      <td>No</td>\n",
              "      <td>Month-to-month</td>\n",
              "      <td>Yes</td>\n",
              "      <td>Electronic check</td>\n",
              "      <td>29.85</td>\n",
              "      <td>29.85</td>\n",
              "      <td>No</td>\n",
              "    </tr>\n",
              "    <tr>\n",
              "      <th>1</th>\n",
              "      <td>5575-GNVDE</td>\n",
              "      <td>Male</td>\n",
              "      <td>0</td>\n",
              "      <td>No</td>\n",
              "      <td>No</td>\n",
              "      <td>34</td>\n",
              "      <td>Yes</td>\n",
              "      <td>No</td>\n",
              "      <td>DSL</td>\n",
              "      <td>Yes</td>\n",
              "      <td>No</td>\n",
              "      <td>Yes</td>\n",
              "      <td>No</td>\n",
              "      <td>No</td>\n",
              "      <td>No</td>\n",
              "      <td>One year</td>\n",
              "      <td>No</td>\n",
              "      <td>Mailed check</td>\n",
              "      <td>56.95</td>\n",
              "      <td>1889.5</td>\n",
              "      <td>No</td>\n",
              "    </tr>\n",
              "    <tr>\n",
              "      <th>2</th>\n",
              "      <td>3668-QPYBK</td>\n",
              "      <td>Male</td>\n",
              "      <td>0</td>\n",
              "      <td>No</td>\n",
              "      <td>No</td>\n",
              "      <td>2</td>\n",
              "      <td>Yes</td>\n",
              "      <td>No</td>\n",
              "      <td>DSL</td>\n",
              "      <td>Yes</td>\n",
              "      <td>Yes</td>\n",
              "      <td>No</td>\n",
              "      <td>No</td>\n",
              "      <td>No</td>\n",
              "      <td>No</td>\n",
              "      <td>Month-to-month</td>\n",
              "      <td>Yes</td>\n",
              "      <td>Mailed check</td>\n",
              "      <td>53.85</td>\n",
              "      <td>108.15</td>\n",
              "      <td>Yes</td>\n",
              "    </tr>\n",
              "    <tr>\n",
              "      <th>3</th>\n",
              "      <td>7795-CFOCW</td>\n",
              "      <td>Male</td>\n",
              "      <td>0</td>\n",
              "      <td>No</td>\n",
              "      <td>No</td>\n",
              "      <td>45</td>\n",
              "      <td>No</td>\n",
              "      <td>No phone service</td>\n",
              "      <td>DSL</td>\n",
              "      <td>Yes</td>\n",
              "      <td>No</td>\n",
              "      <td>Yes</td>\n",
              "      <td>Yes</td>\n",
              "      <td>No</td>\n",
              "      <td>No</td>\n",
              "      <td>One year</td>\n",
              "      <td>No</td>\n",
              "      <td>Bank transfer (automatic)</td>\n",
              "      <td>42.30</td>\n",
              "      <td>1840.75</td>\n",
              "      <td>No</td>\n",
              "    </tr>\n",
              "    <tr>\n",
              "      <th>4</th>\n",
              "      <td>9237-HQITU</td>\n",
              "      <td>Female</td>\n",
              "      <td>0</td>\n",
              "      <td>No</td>\n",
              "      <td>No</td>\n",
              "      <td>2</td>\n",
              "      <td>Yes</td>\n",
              "      <td>No</td>\n",
              "      <td>Fiber optic</td>\n",
              "      <td>No</td>\n",
              "      <td>No</td>\n",
              "      <td>No</td>\n",
              "      <td>No</td>\n",
              "      <td>No</td>\n",
              "      <td>No</td>\n",
              "      <td>Month-to-month</td>\n",
              "      <td>Yes</td>\n",
              "      <td>Electronic check</td>\n",
              "      <td>70.70</td>\n",
              "      <td>151.65</td>\n",
              "      <td>Yes</td>\n",
              "    </tr>\n",
              "  </tbody>\n",
              "</table>\n",
              "</div>"
            ],
            "text/plain": [
              "   customerID  gender  SeniorCitizen  ... MonthlyCharges TotalCharges  Churn\n",
              "0  7590-VHVEG  Female              0  ...          29.85        29.85     No\n",
              "1  5575-GNVDE    Male              0  ...          56.95       1889.5     No\n",
              "2  3668-QPYBK    Male              0  ...          53.85       108.15    Yes\n",
              "3  7795-CFOCW    Male              0  ...          42.30      1840.75     No\n",
              "4  9237-HQITU  Female              0  ...          70.70       151.65    Yes\n",
              "\n",
              "[5 rows x 21 columns]"
            ]
          },
          "metadata": {},
          "execution_count": 14
        }
      ]
    },
    {
      "cell_type": "code",
      "metadata": {
        "colab": {
          "base_uri": "https://localhost:8080/",
          "height": 310
        },
        "id": "X9lmdowvj_Yj",
        "outputId": "739d4e12-372b-47f3-aeca-2fe5f37ce072"
      },
      "source": [
        "df.tail()"
      ],
      "execution_count": 15,
      "outputs": [
        {
          "output_type": "execute_result",
          "data": {
            "text/html": [
              "<div>\n",
              "<style scoped>\n",
              "    .dataframe tbody tr th:only-of-type {\n",
              "        vertical-align: middle;\n",
              "    }\n",
              "\n",
              "    .dataframe tbody tr th {\n",
              "        vertical-align: top;\n",
              "    }\n",
              "\n",
              "    .dataframe thead th {\n",
              "        text-align: right;\n",
              "    }\n",
              "</style>\n",
              "<table border=\"1\" class=\"dataframe\">\n",
              "  <thead>\n",
              "    <tr style=\"text-align: right;\">\n",
              "      <th></th>\n",
              "      <th>customerID</th>\n",
              "      <th>gender</th>\n",
              "      <th>SeniorCitizen</th>\n",
              "      <th>Partner</th>\n",
              "      <th>Dependents</th>\n",
              "      <th>tenure</th>\n",
              "      <th>PhoneService</th>\n",
              "      <th>MultipleLines</th>\n",
              "      <th>InternetService</th>\n",
              "      <th>OnlineSecurity</th>\n",
              "      <th>OnlineBackup</th>\n",
              "      <th>DeviceProtection</th>\n",
              "      <th>TechSupport</th>\n",
              "      <th>StreamingTV</th>\n",
              "      <th>StreamingMovies</th>\n",
              "      <th>Contract</th>\n",
              "      <th>PaperlessBilling</th>\n",
              "      <th>PaymentMethod</th>\n",
              "      <th>MonthlyCharges</th>\n",
              "      <th>TotalCharges</th>\n",
              "      <th>Churn</th>\n",
              "    </tr>\n",
              "  </thead>\n",
              "  <tbody>\n",
              "    <tr>\n",
              "      <th>7038</th>\n",
              "      <td>6840-RESVB</td>\n",
              "      <td>Male</td>\n",
              "      <td>0</td>\n",
              "      <td>Yes</td>\n",
              "      <td>Yes</td>\n",
              "      <td>24</td>\n",
              "      <td>Yes</td>\n",
              "      <td>Yes</td>\n",
              "      <td>DSL</td>\n",
              "      <td>Yes</td>\n",
              "      <td>No</td>\n",
              "      <td>Yes</td>\n",
              "      <td>Yes</td>\n",
              "      <td>Yes</td>\n",
              "      <td>Yes</td>\n",
              "      <td>One year</td>\n",
              "      <td>Yes</td>\n",
              "      <td>Mailed check</td>\n",
              "      <td>84.80</td>\n",
              "      <td>1990.5</td>\n",
              "      <td>No</td>\n",
              "    </tr>\n",
              "    <tr>\n",
              "      <th>7039</th>\n",
              "      <td>2234-XADUH</td>\n",
              "      <td>Female</td>\n",
              "      <td>0</td>\n",
              "      <td>Yes</td>\n",
              "      <td>Yes</td>\n",
              "      <td>72</td>\n",
              "      <td>Yes</td>\n",
              "      <td>Yes</td>\n",
              "      <td>Fiber optic</td>\n",
              "      <td>No</td>\n",
              "      <td>Yes</td>\n",
              "      <td>Yes</td>\n",
              "      <td>No</td>\n",
              "      <td>Yes</td>\n",
              "      <td>Yes</td>\n",
              "      <td>One year</td>\n",
              "      <td>Yes</td>\n",
              "      <td>Credit card (automatic)</td>\n",
              "      <td>103.20</td>\n",
              "      <td>7362.9</td>\n",
              "      <td>No</td>\n",
              "    </tr>\n",
              "    <tr>\n",
              "      <th>7040</th>\n",
              "      <td>4801-JZAZL</td>\n",
              "      <td>Female</td>\n",
              "      <td>0</td>\n",
              "      <td>Yes</td>\n",
              "      <td>Yes</td>\n",
              "      <td>11</td>\n",
              "      <td>No</td>\n",
              "      <td>No phone service</td>\n",
              "      <td>DSL</td>\n",
              "      <td>Yes</td>\n",
              "      <td>No</td>\n",
              "      <td>No</td>\n",
              "      <td>No</td>\n",
              "      <td>No</td>\n",
              "      <td>No</td>\n",
              "      <td>Month-to-month</td>\n",
              "      <td>Yes</td>\n",
              "      <td>Electronic check</td>\n",
              "      <td>29.60</td>\n",
              "      <td>346.45</td>\n",
              "      <td>No</td>\n",
              "    </tr>\n",
              "    <tr>\n",
              "      <th>7041</th>\n",
              "      <td>8361-LTMKD</td>\n",
              "      <td>Male</td>\n",
              "      <td>1</td>\n",
              "      <td>Yes</td>\n",
              "      <td>No</td>\n",
              "      <td>4</td>\n",
              "      <td>Yes</td>\n",
              "      <td>Yes</td>\n",
              "      <td>Fiber optic</td>\n",
              "      <td>No</td>\n",
              "      <td>No</td>\n",
              "      <td>No</td>\n",
              "      <td>No</td>\n",
              "      <td>No</td>\n",
              "      <td>No</td>\n",
              "      <td>Month-to-month</td>\n",
              "      <td>Yes</td>\n",
              "      <td>Mailed check</td>\n",
              "      <td>74.40</td>\n",
              "      <td>306.6</td>\n",
              "      <td>Yes</td>\n",
              "    </tr>\n",
              "    <tr>\n",
              "      <th>7042</th>\n",
              "      <td>3186-AJIEK</td>\n",
              "      <td>Male</td>\n",
              "      <td>0</td>\n",
              "      <td>No</td>\n",
              "      <td>No</td>\n",
              "      <td>66</td>\n",
              "      <td>Yes</td>\n",
              "      <td>No</td>\n",
              "      <td>Fiber optic</td>\n",
              "      <td>Yes</td>\n",
              "      <td>No</td>\n",
              "      <td>Yes</td>\n",
              "      <td>Yes</td>\n",
              "      <td>Yes</td>\n",
              "      <td>Yes</td>\n",
              "      <td>Two year</td>\n",
              "      <td>Yes</td>\n",
              "      <td>Bank transfer (automatic)</td>\n",
              "      <td>105.65</td>\n",
              "      <td>6844.5</td>\n",
              "      <td>No</td>\n",
              "    </tr>\n",
              "  </tbody>\n",
              "</table>\n",
              "</div>"
            ],
            "text/plain": [
              "      customerID  gender  SeniorCitizen  ... MonthlyCharges TotalCharges  Churn\n",
              "7038  6840-RESVB    Male              0  ...          84.80       1990.5     No\n",
              "7039  2234-XADUH  Female              0  ...         103.20       7362.9     No\n",
              "7040  4801-JZAZL  Female              0  ...          29.60       346.45     No\n",
              "7041  8361-LTMKD    Male              1  ...          74.40        306.6    Yes\n",
              "7042  3186-AJIEK    Male              0  ...         105.65       6844.5     No\n",
              "\n",
              "[5 rows x 21 columns]"
            ]
          },
          "metadata": {},
          "execution_count": 15
        }
      ]
    },
    {
      "cell_type": "code",
      "metadata": {
        "colab": {
          "base_uri": "https://localhost:8080/"
        },
        "id": "i3YCvuQslMLL",
        "outputId": "a7deca15-ded0-46d2-d59e-52cab0910bc1"
      },
      "source": [
        "#display shape of data\n",
        "df.shape"
      ],
      "execution_count": 16,
      "outputs": [
        {
          "output_type": "execute_result",
          "data": {
            "text/plain": [
              "(7043, 21)"
            ]
          },
          "metadata": {},
          "execution_count": 16
        }
      ]
    },
    {
      "cell_type": "code",
      "metadata": {
        "colab": {
          "base_uri": "https://localhost:8080/"
        },
        "id": "yvUeDvLQkE3v",
        "outputId": "b50b2df1-c971-40d5-8001-7e75d7a5c5e4"
      },
      "source": [
        "#display datatypes of columns\n",
        "df.info()"
      ],
      "execution_count": 17,
      "outputs": [
        {
          "output_type": "stream",
          "name": "stdout",
          "text": [
            "<class 'pandas.core.frame.DataFrame'>\n",
            "RangeIndex: 7043 entries, 0 to 7042\n",
            "Data columns (total 21 columns):\n",
            " #   Column            Non-Null Count  Dtype  \n",
            "---  ------            --------------  -----  \n",
            " 0   customerID        7043 non-null   object \n",
            " 1   gender            7043 non-null   object \n",
            " 2   SeniorCitizen     7043 non-null   int64  \n",
            " 3   Partner           7043 non-null   object \n",
            " 4   Dependents        7043 non-null   object \n",
            " 5   tenure            7043 non-null   int64  \n",
            " 6   PhoneService      7043 non-null   object \n",
            " 7   MultipleLines     7043 non-null   object \n",
            " 8   InternetService   7043 non-null   object \n",
            " 9   OnlineSecurity    7043 non-null   object \n",
            " 10  OnlineBackup      7043 non-null   object \n",
            " 11  DeviceProtection  7043 non-null   object \n",
            " 12  TechSupport       7043 non-null   object \n",
            " 13  StreamingTV       7043 non-null   object \n",
            " 14  StreamingMovies   7043 non-null   object \n",
            " 15  Contract          7043 non-null   object \n",
            " 16  PaperlessBilling  7043 non-null   object \n",
            " 17  PaymentMethod     7043 non-null   object \n",
            " 18  MonthlyCharges    7043 non-null   float64\n",
            " 19  TotalCharges      7043 non-null   object \n",
            " 20  Churn             7043 non-null   object \n",
            "dtypes: float64(1), int64(2), object(18)\n",
            "memory usage: 1.1+ MB\n"
          ]
        }
      ]
    },
    {
      "cell_type": "code",
      "metadata": {
        "colab": {
          "base_uri": "https://localhost:8080/",
          "height": 210
        },
        "id": "-gSdX00akrCz",
        "outputId": "1ffcb66b-ff26-4b00-ae11-6156ac05dbea"
      },
      "source": [
        "#display basic statistics\n",
        "df.describe(include=np.object)"
      ],
      "execution_count": 18,
      "outputs": [
        {
          "output_type": "execute_result",
          "data": {
            "text/html": [
              "<div>\n",
              "<style scoped>\n",
              "    .dataframe tbody tr th:only-of-type {\n",
              "        vertical-align: middle;\n",
              "    }\n",
              "\n",
              "    .dataframe tbody tr th {\n",
              "        vertical-align: top;\n",
              "    }\n",
              "\n",
              "    .dataframe thead th {\n",
              "        text-align: right;\n",
              "    }\n",
              "</style>\n",
              "<table border=\"1\" class=\"dataframe\">\n",
              "  <thead>\n",
              "    <tr style=\"text-align: right;\">\n",
              "      <th></th>\n",
              "      <th>customerID</th>\n",
              "      <th>gender</th>\n",
              "      <th>Partner</th>\n",
              "      <th>Dependents</th>\n",
              "      <th>PhoneService</th>\n",
              "      <th>MultipleLines</th>\n",
              "      <th>InternetService</th>\n",
              "      <th>OnlineSecurity</th>\n",
              "      <th>OnlineBackup</th>\n",
              "      <th>DeviceProtection</th>\n",
              "      <th>TechSupport</th>\n",
              "      <th>StreamingTV</th>\n",
              "      <th>StreamingMovies</th>\n",
              "      <th>Contract</th>\n",
              "      <th>PaperlessBilling</th>\n",
              "      <th>PaymentMethod</th>\n",
              "      <th>TotalCharges</th>\n",
              "      <th>Churn</th>\n",
              "    </tr>\n",
              "  </thead>\n",
              "  <tbody>\n",
              "    <tr>\n",
              "      <th>count</th>\n",
              "      <td>7043</td>\n",
              "      <td>7043</td>\n",
              "      <td>7043</td>\n",
              "      <td>7043</td>\n",
              "      <td>7043</td>\n",
              "      <td>7043</td>\n",
              "      <td>7043</td>\n",
              "      <td>7043</td>\n",
              "      <td>7043</td>\n",
              "      <td>7043</td>\n",
              "      <td>7043</td>\n",
              "      <td>7043</td>\n",
              "      <td>7043</td>\n",
              "      <td>7043</td>\n",
              "      <td>7043</td>\n",
              "      <td>7043</td>\n",
              "      <td>7043</td>\n",
              "      <td>7043</td>\n",
              "    </tr>\n",
              "    <tr>\n",
              "      <th>unique</th>\n",
              "      <td>7043</td>\n",
              "      <td>2</td>\n",
              "      <td>2</td>\n",
              "      <td>2</td>\n",
              "      <td>2</td>\n",
              "      <td>3</td>\n",
              "      <td>3</td>\n",
              "      <td>3</td>\n",
              "      <td>3</td>\n",
              "      <td>3</td>\n",
              "      <td>3</td>\n",
              "      <td>3</td>\n",
              "      <td>3</td>\n",
              "      <td>3</td>\n",
              "      <td>2</td>\n",
              "      <td>4</td>\n",
              "      <td>6531</td>\n",
              "      <td>2</td>\n",
              "    </tr>\n",
              "    <tr>\n",
              "      <th>top</th>\n",
              "      <td>5141-ZUVBH</td>\n",
              "      <td>Male</td>\n",
              "      <td>No</td>\n",
              "      <td>No</td>\n",
              "      <td>Yes</td>\n",
              "      <td>No</td>\n",
              "      <td>Fiber optic</td>\n",
              "      <td>No</td>\n",
              "      <td>No</td>\n",
              "      <td>No</td>\n",
              "      <td>No</td>\n",
              "      <td>No</td>\n",
              "      <td>No</td>\n",
              "      <td>Month-to-month</td>\n",
              "      <td>Yes</td>\n",
              "      <td>Electronic check</td>\n",
              "      <td>20.2</td>\n",
              "      <td>No</td>\n",
              "    </tr>\n",
              "    <tr>\n",
              "      <th>freq</th>\n",
              "      <td>1</td>\n",
              "      <td>3555</td>\n",
              "      <td>3641</td>\n",
              "      <td>4933</td>\n",
              "      <td>6361</td>\n",
              "      <td>3390</td>\n",
              "      <td>3096</td>\n",
              "      <td>3498</td>\n",
              "      <td>3088</td>\n",
              "      <td>3095</td>\n",
              "      <td>3473</td>\n",
              "      <td>2810</td>\n",
              "      <td>2785</td>\n",
              "      <td>3875</td>\n",
              "      <td>4171</td>\n",
              "      <td>2365</td>\n",
              "      <td>11</td>\n",
              "      <td>5174</td>\n",
              "    </tr>\n",
              "  </tbody>\n",
              "</table>\n",
              "</div>"
            ],
            "text/plain": [
              "        customerID gender Partner  ...     PaymentMethod TotalCharges Churn\n",
              "count         7043   7043    7043  ...              7043         7043  7043\n",
              "unique        7043      2       2  ...                 4         6531     2\n",
              "top     5141-ZUVBH   Male      No  ...  Electronic check         20.2    No\n",
              "freq             1   3555    3641  ...              2365           11  5174\n",
              "\n",
              "[4 rows x 18 columns]"
            ]
          },
          "metadata": {},
          "execution_count": 18
        }
      ]
    },
    {
      "cell_type": "code",
      "metadata": {
        "colab": {
          "base_uri": "https://localhost:8080/"
        },
        "id": "eZUubK7rlD_7",
        "outputId": "b94d2ccc-1c97-4cf0-b0fb-dee4e47dce16"
      },
      "source": [
        "#checking the count value for each column\n",
        "for column in df.columns:\n",
        "     print(\"\\n\" + column)\n",
        "     print(df[column].value_counts())\n"
      ],
      "execution_count": 3,
      "outputs": [
        {
          "output_type": "stream",
          "name": "stdout",
          "text": [
            "\n",
            "customerID\n",
            "7795-CFOCW    1\n",
            "8169-SAEJD    1\n",
            "3891-PUQOD    1\n",
            "7044-YAACC    1\n",
            "4195-PNGZS    1\n",
            "             ..\n",
            "8992-VONJD    1\n",
            "6549-YMFAW    1\n",
            "9169-BSVIN    1\n",
            "6331-LWDTQ    1\n",
            "3308-MHOOC    1\n",
            "Name: customerID, Length: 7043, dtype: int64\n",
            "\n",
            "gender\n",
            "Male      3555\n",
            "Female    3488\n",
            "Name: gender, dtype: int64\n",
            "\n",
            "SeniorCitizen\n",
            "0    5901\n",
            "1    1142\n",
            "Name: SeniorCitizen, dtype: int64\n",
            "\n",
            "Partner\n",
            "No     3641\n",
            "Yes    3402\n",
            "Name: Partner, dtype: int64\n",
            "\n",
            "Dependents\n",
            "No     4933\n",
            "Yes    2110\n",
            "Name: Dependents, dtype: int64\n",
            "\n",
            "tenure\n",
            "1     613\n",
            "72    362\n",
            "2     238\n",
            "3     200\n",
            "4     176\n",
            "     ... \n",
            "28     57\n",
            "39     56\n",
            "44     51\n",
            "36     50\n",
            "0      11\n",
            "Name: tenure, Length: 73, dtype: int64\n",
            "\n",
            "PhoneService\n",
            "Yes    6361\n",
            "No      682\n",
            "Name: PhoneService, dtype: int64\n",
            "\n",
            "MultipleLines\n",
            "No                  3390\n",
            "Yes                 2971\n",
            "No phone service     682\n",
            "Name: MultipleLines, dtype: int64\n",
            "\n",
            "InternetService\n",
            "Fiber optic    3096\n",
            "DSL            2421\n",
            "No             1526\n",
            "Name: InternetService, dtype: int64\n",
            "\n",
            "OnlineSecurity\n",
            "No                     3498\n",
            "Yes                    2019\n",
            "No internet service    1526\n",
            "Name: OnlineSecurity, dtype: int64\n",
            "\n",
            "OnlineBackup\n",
            "No                     3088\n",
            "Yes                    2429\n",
            "No internet service    1526\n",
            "Name: OnlineBackup, dtype: int64\n",
            "\n",
            "DeviceProtection\n",
            "No                     3095\n",
            "Yes                    2422\n",
            "No internet service    1526\n",
            "Name: DeviceProtection, dtype: int64\n",
            "\n",
            "TechSupport\n",
            "No                     3473\n",
            "Yes                    2044\n",
            "No internet service    1526\n",
            "Name: TechSupport, dtype: int64\n",
            "\n",
            "StreamingTV\n",
            "No                     2810\n",
            "Yes                    2707\n",
            "No internet service    1526\n",
            "Name: StreamingTV, dtype: int64\n",
            "\n",
            "StreamingMovies\n",
            "No                     2785\n",
            "Yes                    2732\n",
            "No internet service    1526\n",
            "Name: StreamingMovies, dtype: int64\n",
            "\n",
            "Contract\n",
            "Month-to-month    3875\n",
            "Two year          1695\n",
            "One year          1473\n",
            "Name: Contract, dtype: int64\n",
            "\n",
            "PaperlessBilling\n",
            "Yes    4171\n",
            "No     2872\n",
            "Name: PaperlessBilling, dtype: int64\n",
            "\n",
            "PaymentMethod\n",
            "Electronic check             2365\n",
            "Mailed check                 1612\n",
            "Bank transfer (automatic)    1544\n",
            "Credit card (automatic)      1522\n",
            "Name: PaymentMethod, dtype: int64\n",
            "\n",
            "MonthlyCharges\n",
            "20.05     61\n",
            "19.85     45\n",
            "19.95     44\n",
            "19.90     44\n",
            "20.00     43\n",
            "          ..\n",
            "114.75     1\n",
            "103.60     1\n",
            "113.40     1\n",
            "57.65      1\n",
            "113.30     1\n",
            "Name: MonthlyCharges, Length: 1585, dtype: int64\n",
            "\n",
            "TotalCharges\n",
            "           11\n",
            "20.2       11\n",
            "19.75       9\n",
            "19.65       8\n",
            "19.9        8\n",
            "           ..\n",
            "152.45      1\n",
            "1810.55     1\n",
            "2931        1\n",
            "1026.35     1\n",
            "3912.9      1\n",
            "Name: TotalCharges, Length: 6531, dtype: int64\n",
            "\n",
            "Churn\n",
            "No     5174\n",
            "Yes    1869\n",
            "Name: Churn, dtype: int64\n"
          ]
        }
      ]
    },
    {
      "cell_type": "code",
      "metadata": {
        "colab": {
          "base_uri": "https://localhost:8080/"
        },
        "id": "oBqUUh07ltEy",
        "outputId": "3003eae3-d77a-48fa-b581-e4436feb050b"
      },
      "source": [
        "#checking for missing values\n",
        "df.isnull().sum()"
      ],
      "execution_count": 20,
      "outputs": [
        {
          "output_type": "execute_result",
          "data": {
            "text/plain": [
              "customerID          0\n",
              "gender              0\n",
              "SeniorCitizen       0\n",
              "Partner             0\n",
              "Dependents          0\n",
              "tenure              0\n",
              "PhoneService        0\n",
              "MultipleLines       0\n",
              "InternetService     0\n",
              "OnlineSecurity      0\n",
              "OnlineBackup        0\n",
              "DeviceProtection    0\n",
              "TechSupport         0\n",
              "StreamingTV         0\n",
              "StreamingMovies     0\n",
              "Contract            0\n",
              "PaperlessBilling    0\n",
              "PaymentMethod       0\n",
              "MonthlyCharges      0\n",
              "TotalCharges        0\n",
              "Churn               0\n",
              "dtype: int64"
            ]
          },
          "metadata": {},
          "execution_count": 20
        }
      ]
    },
    {
      "cell_type": "markdown",
      "metadata": {
        "id": "lfLHUVJXl_4N"
      },
      "source": [
        "> **There is no null or missing value in dataset**"
      ]
    },
    {
      "cell_type": "code",
      "metadata": {
        "colab": {
          "base_uri": "https://localhost:8080/"
        },
        "id": "qTRiLajJmE8c",
        "outputId": "15a53d86-f7b2-453b-b406-4bdca405609c"
      },
      "source": [
        "#checking for duplicates\n",
        "df.duplicated()"
      ],
      "execution_count": 21,
      "outputs": [
        {
          "output_type": "execute_result",
          "data": {
            "text/plain": [
              "0       False\n",
              "1       False\n",
              "2       False\n",
              "3       False\n",
              "4       False\n",
              "        ...  \n",
              "7038    False\n",
              "7039    False\n",
              "7040    False\n",
              "7041    False\n",
              "7042    False\n",
              "Length: 7043, dtype: bool"
            ]
          },
          "metadata": {},
          "execution_count": 21
        }
      ]
    },
    {
      "cell_type": "markdown",
      "metadata": {
        "id": "9Stctn7dmSm-"
      },
      "source": [
        ">  **No duplicate values**"
      ]
    },
    {
      "cell_type": "code",
      "metadata": {
        "colab": {
          "base_uri": "https://localhost:8080/"
        },
        "id": "JLc685n6uAxo",
        "outputId": "c7c95b48-9c77-4204-953b-6d5e1fc916c2"
      },
      "source": [
        "df.dtypes"
      ],
      "execution_count": 22,
      "outputs": [
        {
          "output_type": "execute_result",
          "data": {
            "text/plain": [
              "customerID           object\n",
              "gender               object\n",
              "SeniorCitizen         int64\n",
              "Partner              object\n",
              "Dependents           object\n",
              "tenure                int64\n",
              "PhoneService         object\n",
              "MultipleLines        object\n",
              "InternetService      object\n",
              "OnlineSecurity       object\n",
              "OnlineBackup         object\n",
              "DeviceProtection     object\n",
              "TechSupport          object\n",
              "StreamingTV          object\n",
              "StreamingMovies      object\n",
              "Contract             object\n",
              "PaperlessBilling     object\n",
              "PaymentMethod        object\n",
              "MonthlyCharges      float64\n",
              "TotalCharges         object\n",
              "Churn                object\n",
              "dtype: object"
            ]
          },
          "metadata": {},
          "execution_count": 22
        }
      ]
    },
    {
      "cell_type": "markdown",
      "metadata": {
        "id": "7g1o85Z1jZOo"
      },
      "source": [
        "> **While checking datatype for 'TotalCharges' it is showing its an object but this column is in numeric format in dataset so i checked for blank spaces.**"
      ]
    },
    {
      "cell_type": "code",
      "metadata": {
        "id": "QMxmr-A3Vh1c",
        "colab": {
          "base_uri": "https://localhost:8080/"
        },
        "outputId": "67ad89fa-6dca-4a94-d374-5a0b07d8a3b1"
      },
      "source": [
        "df.loc[df['TotalCharges'] == ' ', 'TotalCharges'].count()"
      ],
      "execution_count": 23,
      "outputs": [
        {
          "output_type": "execute_result",
          "data": {
            "text/plain": [
              "11"
            ]
          },
          "metadata": {},
          "execution_count": 23
        }
      ]
    },
    {
      "cell_type": "markdown",
      "metadata": {
        "id": "edLkKMo3j6pq"
      },
      "source": [
        "> **After checking count for blank spaces, it is showing that 11 blank rows in 'TotalCharges' column, so i converted the object datatype into numeric and also fill blank space with 0.**"
      ]
    },
    {
      "cell_type": "code",
      "metadata": {
        "id": "Kfo3-rM_vmvp"
      },
      "source": [
        "df['TotalCharges'] = pd.to_numeric(df['TotalCharges'].replace(' ',''))"
      ],
      "execution_count": 4,
      "outputs": []
    },
    {
      "cell_type": "code",
      "metadata": {
        "id": "GBtNCzhdrEsF"
      },
      "source": [
        "df.TotalCharges = df[['TotalCharges']].fillna(0)"
      ],
      "execution_count": 5,
      "outputs": []
    },
    {
      "cell_type": "code",
      "metadata": {
        "colab": {
          "base_uri": "https://localhost:8080/"
        },
        "id": "v2QuvflVsI22",
        "outputId": "51b0470e-94cc-497b-bb53-f93b19599c82"
      },
      "source": [
        "df.dtypes"
      ],
      "execution_count": 26,
      "outputs": [
        {
          "output_type": "execute_result",
          "data": {
            "text/plain": [
              "customerID           object\n",
              "gender               object\n",
              "SeniorCitizen         int64\n",
              "Partner              object\n",
              "Dependents           object\n",
              "tenure                int64\n",
              "PhoneService         object\n",
              "MultipleLines        object\n",
              "InternetService      object\n",
              "OnlineSecurity       object\n",
              "OnlineBackup         object\n",
              "DeviceProtection     object\n",
              "TechSupport          object\n",
              "StreamingTV          object\n",
              "StreamingMovies      object\n",
              "Contract             object\n",
              "PaperlessBilling     object\n",
              "PaymentMethod        object\n",
              "MonthlyCharges      float64\n",
              "TotalCharges        float64\n",
              "Churn                object\n",
              "dtype: object"
            ]
          },
          "metadata": {},
          "execution_count": 26
        }
      ]
    },
    {
      "cell_type": "markdown",
      "metadata": {
        "id": "XcSEDUc3k5uz"
      },
      "source": [
        "> **Checking for value count in 'churn' variable, is data imbalanced?**"
      ]
    },
    {
      "cell_type": "code",
      "metadata": {
        "colab": {
          "base_uri": "https://localhost:8080/"
        },
        "id": "sILYffPj5Z6C",
        "outputId": "b5c3d513-a81d-4e27-daf2-b89a5a36e1c0"
      },
      "source": [
        "df.Churn.value_counts()"
      ],
      "execution_count": 27,
      "outputs": [
        {
          "output_type": "execute_result",
          "data": {
            "text/plain": [
              "No     5174\n",
              "Yes    1869\n",
              "Name: Churn, dtype: int64"
            ]
          },
          "metadata": {},
          "execution_count": 27
        }
      ]
    },
    {
      "cell_type": "code",
      "metadata": {
        "colab": {
          "base_uri": "https://localhost:8080/",
          "height": 297
        },
        "id": "cweqezQP5zOO",
        "outputId": "6f933cf1-418d-40bb-c3d8-be86a45698e2"
      },
      "source": [
        "# Visualization of Output data\n",
        "plt.bar(x = df['Churn'].unique(), height = df.Churn.value_counts())\n",
        "plt.legend()\n",
        "plt.xlabel(\"Churn label\")\n",
        "plt.ylabel(\"Count\")\n",
        "plt.show()"
      ],
      "execution_count": 6,
      "outputs": [
        {
          "output_type": "stream",
          "name": "stderr",
          "text": [
            "No handles with labels found to put in legend.\n"
          ]
        },
        {
          "output_type": "display_data",
          "data": {
            "image/png": "[encoded data removed]",
            "text/plain": [
              "<Figure size 432x288 with 1 Axes>"
            ]
          },
          "metadata": {
            "needs_background": "light"
          }
        }
      ]
    },
    {
      "cell_type": "markdown",
      "metadata": {
        "id": "a5TRNxPv6kz2"
      },
      "source": [
        "> **Conclusion : Plot showing that non churner data is more than churner data. Data is imbalanced.**"
      ]
    },
    {
      "cell_type": "markdown",
      "metadata": {
        "id": "e3fHgazNBMJN"
      },
      "source": [
        "\n",
        "\n",
        "---\n",
        "\n"
      ]
    },
    {
      "cell_type": "markdown",
      "metadata": {
        "id": "5oCRt5RX7ztE"
      },
      "source": [
        "> **Need to explore data to find some data pattern \n",
        " for categorical data, seaborn count plot is used against churn variable**."
      ]
    },
    {
      "cell_type": "code",
      "metadata": {
        "colab": {
          "base_uri": "https://localhost:8080/",
          "height": 297
        },
        "id": "PeXyiKZG7E0u",
        "outputId": "f4c4abda-d287-45e0-e211-246634a9822e"
      },
      "source": [
        "sns.countplot(x='Churn',data=df,hue='gender',palette=\"Blues\")\n"
      ],
      "execution_count": 29,
      "outputs": [
        {
          "output_type": "execute_result",
          "data": {
            "text/plain": [
              "<matplotlib.axes._subplots.AxesSubplot at 0x7fcb80ba5110>"
            ]
          },
          "metadata": {},
          "execution_count": 29
        },
        {
          "output_type": "display_data",
          "data": {
            "image/png": "[encoded data removed]",
            "text/plain": [
              "<Figure size 432x288 with 1 Axes>"
            ]
          },
          "metadata": {
            "needs_background": "light"
          }
        }
      ]
    },
    {
      "cell_type": "markdown",
      "metadata": {
        "id": "jU0hdDiK8Uat"
      },
      "source": [
        "> **In this plot is showing that gender is not contributing factor in customer churn dataset, both have churn or haven't churn at the same time there is no major difference.**"
      ]
    },
    {
      "cell_type": "markdown",
      "metadata": {
        "id": "CSXGmf1wBoqR"
      },
      "source": [
        "\n",
        "\n",
        "---\n",
        "\n"
      ]
    },
    {
      "cell_type": "markdown",
      "metadata": {
        "id": "hBYqqTpUpbUp"
      },
      "source": [
        "> **see how gender, partner and dependent impact on churn**"
      ]
    },
    {
      "cell_type": "code",
      "metadata": {
        "colab": {
          "base_uri": "https://localhost:8080/",
          "height": 545
        },
        "id": "PaVdbPoMpZ1o",
        "outputId": "292cd6d5-5099-45ee-af81-d1b3b3b44af6"
      },
      "source": [
        "##using groupby its better to see the count result\n",
        "df.groupby(['gender', 'Partner', 'Dependents', 'Churn']).size().reset_index(name='Count')"
      ],
      "execution_count": 30,
      "outputs": [
        {
          "output_type": "execute_result",
          "data": {
            "text/html": [
              "<div>\n",
              "<style scoped>\n",
              "    .dataframe tbody tr th:only-of-type {\n",
              "        vertical-align: middle;\n",
              "    }\n",
              "\n",
              "    .dataframe tbody tr th {\n",
              "        vertical-align: top;\n",
              "    }\n",
              "\n",
              "    .dataframe thead th {\n",
              "        text-align: right;\n",
              "    }\n",
              "</style>\n",
              "<table border=\"1\" class=\"dataframe\">\n",
              "  <thead>\n",
              "    <tr style=\"text-align: right;\">\n",
              "      <th></th>\n",
              "      <th>gender</th>\n",
              "      <th>Partner</th>\n",
              "      <th>Dependents</th>\n",
              "      <th>Churn</th>\n",
              "      <th>Count</th>\n",
              "    </tr>\n",
              "  </thead>\n",
              "  <tbody>\n",
              "    <tr>\n",
              "      <th>0</th>\n",
              "      <td>Female</td>\n",
              "      <td>No</td>\n",
              "      <td>No</td>\n",
              "      <td>No</td>\n",
              "      <td>1068</td>\n",
              "    </tr>\n",
              "    <tr>\n",
              "      <th>1</th>\n",
              "      <td>Female</td>\n",
              "      <td>No</td>\n",
              "      <td>No</td>\n",
              "      <td>Yes</td>\n",
              "      <td>587</td>\n",
              "    </tr>\n",
              "    <tr>\n",
              "      <th>2</th>\n",
              "      <td>Female</td>\n",
              "      <td>No</td>\n",
              "      <td>Yes</td>\n",
              "      <td>No</td>\n",
              "      <td>112</td>\n",
              "    </tr>\n",
              "    <tr>\n",
              "      <th>3</th>\n",
              "      <td>Female</td>\n",
              "      <td>No</td>\n",
              "      <td>Yes</td>\n",
              "      <td>Yes</td>\n",
              "      <td>33</td>\n",
              "    </tr>\n",
              "    <tr>\n",
              "      <th>4</th>\n",
              "      <td>Female</td>\n",
              "      <td>Yes</td>\n",
              "      <td>No</td>\n",
              "      <td>No</td>\n",
              "      <td>618</td>\n",
              "    </tr>\n",
              "    <tr>\n",
              "      <th>5</th>\n",
              "      <td>Female</td>\n",
              "      <td>Yes</td>\n",
              "      <td>No</td>\n",
              "      <td>Yes</td>\n",
              "      <td>187</td>\n",
              "    </tr>\n",
              "    <tr>\n",
              "      <th>6</th>\n",
              "      <td>Female</td>\n",
              "      <td>Yes</td>\n",
              "      <td>Yes</td>\n",
              "      <td>No</td>\n",
              "      <td>751</td>\n",
              "    </tr>\n",
              "    <tr>\n",
              "      <th>7</th>\n",
              "      <td>Female</td>\n",
              "      <td>Yes</td>\n",
              "      <td>Yes</td>\n",
              "      <td>Yes</td>\n",
              "      <td>132</td>\n",
              "    </tr>\n",
              "    <tr>\n",
              "      <th>8</th>\n",
              "      <td>Male</td>\n",
              "      <td>No</td>\n",
              "      <td>No</td>\n",
              "      <td>No</td>\n",
              "      <td>1089</td>\n",
              "    </tr>\n",
              "    <tr>\n",
              "      <th>9</th>\n",
              "      <td>Male</td>\n",
              "      <td>No</td>\n",
              "      <td>No</td>\n",
              "      <td>Yes</td>\n",
              "      <td>536</td>\n",
              "    </tr>\n",
              "    <tr>\n",
              "      <th>10</th>\n",
              "      <td>Male</td>\n",
              "      <td>No</td>\n",
              "      <td>Yes</td>\n",
              "      <td>No</td>\n",
              "      <td>172</td>\n",
              "    </tr>\n",
              "    <tr>\n",
              "      <th>11</th>\n",
              "      <td>Male</td>\n",
              "      <td>No</td>\n",
              "      <td>Yes</td>\n",
              "      <td>Yes</td>\n",
              "      <td>44</td>\n",
              "    </tr>\n",
              "    <tr>\n",
              "      <th>12</th>\n",
              "      <td>Male</td>\n",
              "      <td>Yes</td>\n",
              "      <td>No</td>\n",
              "      <td>No</td>\n",
              "      <td>615</td>\n",
              "    </tr>\n",
              "    <tr>\n",
              "      <th>13</th>\n",
              "      <td>Male</td>\n",
              "      <td>Yes</td>\n",
              "      <td>No</td>\n",
              "      <td>Yes</td>\n",
              "      <td>233</td>\n",
              "    </tr>\n",
              "    <tr>\n",
              "      <th>14</th>\n",
              "      <td>Male</td>\n",
              "      <td>Yes</td>\n",
              "      <td>Yes</td>\n",
              "      <td>No</td>\n",
              "      <td>749</td>\n",
              "    </tr>\n",
              "    <tr>\n",
              "      <th>15</th>\n",
              "      <td>Male</td>\n",
              "      <td>Yes</td>\n",
              "      <td>Yes</td>\n",
              "      <td>Yes</td>\n",
              "      <td>117</td>\n",
              "    </tr>\n",
              "  </tbody>\n",
              "</table>\n",
              "</div>"
            ],
            "text/plain": [
              "    gender Partner Dependents Churn  Count\n",
              "0   Female      No         No    No   1068\n",
              "1   Female      No         No   Yes    587\n",
              "2   Female      No        Yes    No    112\n",
              "3   Female      No        Yes   Yes     33\n",
              "4   Female     Yes         No    No    618\n",
              "5   Female     Yes         No   Yes    187\n",
              "6   Female     Yes        Yes    No    751\n",
              "7   Female     Yes        Yes   Yes    132\n",
              "8     Male      No         No    No   1089\n",
              "9     Male      No         No   Yes    536\n",
              "10    Male      No        Yes    No    172\n",
              "11    Male      No        Yes   Yes     44\n",
              "12    Male     Yes         No    No    615\n",
              "13    Male     Yes         No   Yes    233\n",
              "14    Male     Yes        Yes    No    749\n",
              "15    Male     Yes        Yes   Yes    117"
            ]
          },
          "metadata": {},
          "execution_count": 30
        }
      ]
    },
    {
      "cell_type": "code",
      "metadata": {
        "colab": {
          "base_uri": "https://localhost:8080/",
          "height": 542
        },
        "id": "7quOMzRaqLrD",
        "outputId": "17a6805b-8313-4f5f-c722-19adae9a5059"
      },
      "source": [
        "##visualizing above results and above features are categorical\n",
        "fig = px.treemap(df.groupby(['gender', 'Partner', 'Dependents', 'Churn']).size().reset_index(name='Count'), \n",
        "                 path=['gender', 'Partner', 'Dependents', 'Churn'], values='Count', color='Churn', range_color = [78878,4434],\n",
        "                 title='How gender, partner and dependents are related to churn')\n",
        "\n",
        "fig.show()"
      ],
      "execution_count": 7,
      "outputs": [
        {
          "output_type": "display_data",
          "data": {
            "text/html": [
              "<html>\n",
              "<head><meta charset=\"utf-8\" /></head>\n",
              "<body>\n",
              "    <div>            <script src=\"https://cdnjs.cloudflare.com/ajax/libs/mathjax/2.7.5/MathJax.js?config=TeX-AMS-MML_SVG\"></script><script type=\"text/javascript\">if (window.MathJax) {MathJax.Hub.Config({SVG: {font: \"STIX-Web\"}});}</script>                <script type=\"text/javascript\">window.PlotlyConfig = {MathJaxConfig: 'local'};</script>\n",
              "        <script src=\"https://cdn.plot.ly/plotly-2.4.2.min.js\"></script>                <div id=\"c8f9517a-e532-4f93-9fbf-017b8ebb7605\" class=\"plotly-graph-div\" style=\"height:525px; width:100%;\"></div>            <script type=\"text/javascript\">                                    window.PLOTLYENV=window.PLOTLYENV || {};                                    if (document.getElementById(\"c8f9517a-e532-4f93-9fbf-017b8ebb7605\")) {                    Plotly.newPlot(                        \"c8f9517a-e532-4f93-9fbf-017b8ebb7605\",                        [{\"branchvalues\":\"total\",\"customdata\":[[\"No\"],[\"No\"],[\"No\"],[\"No\"],[\"Yes\"],[\"Yes\"],[\"Yes\"],[\"Yes\"],[\"No\"],[\"No\"],[\"No\"],[\"No\"],[\"Yes\"],[\"Yes\"],[\"Yes\"],[\"Yes\"],[\"(?)\"],[\"(?)\"],[\"(?)\"],[\"(?)\"],[\"(?)\"],[\"(?)\"],[\"(?)\"],[\"(?)\"],[\"(?)\"],[\"(?)\"],[\"(?)\"],[\"(?)\"],[\"(?)\"],[\"(?)\"]],\"domain\":{\"x\":[0.0,1.0],\"y\":[0.0,1.0]},\"hovertemplate\":\"labels=%{label}<br>Count=%{value}<br>parent=%{parent}<br>id=%{id}<br>Churn=%{customdata[0]}<extra></extra>\",\"ids\":[\"Female/No/No/No\",\"Female/Yes/No/No\",\"Female/No/Yes/No\",\"Female/Yes/Yes/No\",\"Female/No/No/Yes\",\"Female/Yes/No/Yes\",\"Female/No/Yes/Yes\",\"Female/Yes/Yes/Yes\",\"Male/No/No/No\",\"Male/Yes/No/No\",\"Male/No/Yes/No\",\"Male/Yes/Yes/No\",\"Male/No/No/Yes\",\"Male/Yes/No/Yes\",\"Male/No/Yes/Yes\",\"Male/Yes/Yes/Yes\",\"Female/No/No\",\"Male/No/No\",\"Female/Yes/No\",\"Male/Yes/No\",\"Female/No/Yes\",\"Male/No/Yes\",\"Female/Yes/Yes\",\"Male/Yes/Yes\",\"Female/No\",\"Male/No\",\"Female/Yes\",\"Male/Yes\",\"Female\",\"Male\"],\"labels\":[\"No\",\"No\",\"No\",\"No\",\"Yes\",\"Yes\",\"Yes\",\"Yes\",\"No\",\"No\",\"No\",\"No\",\"Yes\",\"Yes\",\"Yes\",\"Yes\",\"No\",\"No\",\"No\",\"No\",\"Yes\",\"Yes\",\"Yes\",\"Yes\",\"No\",\"No\",\"Yes\",\"Yes\",\"Female\",\"Male\"],\"marker\":{\"colors\":[\"#636efa\",\"#636efa\",\"#636efa\",\"#636efa\",\"#EF553B\",\"#EF553B\",\"#EF553B\",\"#EF553B\",\"#636efa\",\"#636efa\",\"#636efa\",\"#636efa\",\"#EF553B\",\"#EF553B\",\"#EF553B\",\"#EF553B\",\"#00cc96\",\"#00cc96\",\"#00cc96\",\"#00cc96\",\"#00cc96\",\"#00cc96\",\"#00cc96\",\"#00cc96\",\"#00cc96\",\"#00cc96\",\"#00cc96\",\"#00cc96\",\"#00cc96\",\"#00cc96\"]},\"name\":\"\",\"parents\":[\"Female/No/No\",\"Female/Yes/No\",\"Female/No/Yes\",\"Female/Yes/Yes\",\"Female/No/No\",\"Female/Yes/No\",\"Female/No/Yes\",\"Female/Yes/Yes\",\"Male/No/No\",\"Male/Yes/No\",\"Male/No/Yes\",\"Male/Yes/Yes\",\"Male/No/No\",\"Male/Yes/No\",\"Male/No/Yes\",\"Male/Yes/Yes\",\"Female/No\",\"Male/No\",\"Female/Yes\",\"Male/Yes\",\"Female/No\",\"Male/No\",\"Female/Yes\",\"Male/Yes\",\"Female\",\"Male\",\"Female\",\"Male\",\"\",\"\"],\"type\":\"treemap\",\"values\":[1068,618,112,751,587,187,33,132,1089,615,172,749,536,233,44,117,1655,1625,805,848,145,216,883,866,1800,1841,1688,1714,3488,3555]}],                        {\"legend\":{\"tracegroupgap\":0},\"template\":{\"data\":{\"bar\":[{\"error_x\":{\"color\":\"#2a3f5f\"},\"error_y\":{\"color\":\"#2a3f5f\"},\"marker\":{\"line\":{\"color\":\"#E5ECF6\",\"width\":0.5},\"pattern\":{\"fillmode\":\"overlay\",\"size\":10,\"solidity\":0.2}},\"type\":\"bar\"}],\"barpolar\":[{\"marker\":{\"line\":{\"color\":\"#E5ECF6\",\"width\":0.5},\"pattern\":{\"fillmode\":\"overlay\",\"size\":10,\"solidity\":0.2}},\"type\":\"barpolar\"}],\"carpet\":[{\"aaxis\":{\"endlinecolor\":\"#2a3f5f\",\"gridcolor\":\"white\",\"linecolor\":\"white\",\"minorgridcolor\":\"white\",\"startlinecolor\":\"#2a3f5f\"},\"baxis\":{\"endlinecolor\":\"#2a3f5f\",\"gridcolor\":\"white\",\"linecolor\":\"white\",\"minorgridcolor\":\"white\",\"startlinecolor\":\"#2a3f5f\"},\"type\":\"carpet\"}],\"choropleth\":[{\"colorbar\":{\"outlinewidth\":0,\"ticks\":\"\"},\"type\":\"choropleth\"}],\"contour\":[{\"colorbar\":{\"outlinewidth\":0,\"ticks\":\"\"},\"colorscale\":[[0.0,\"#0d0887\"],[0.1111111111111111,\"#46039f\"],[0.2222222222222222,\"#7201a8\"],[0.3333333333333333,\"#9c179e\"],[0.4444444444444444,\"#bd3786\"],[0.5555555555555556,\"#d8576b\"],[0.6666666666666666,\"#ed7953\"],[0.7777777777777778,\"#fb9f3a\"],[0.8888888888888888,\"#fdca26\"],[1.0,\"#f0f921\"]],\"type\":\"contour\"}],\"contourcarpet\":[{\"colorbar\":{\"outlinewidth\":0,\"ticks\":\"\"},\"type\":\"contourcarpet\"}],\"heatmap\":[{\"colorbar\":{\"outlinewidth\":0,\"ticks\":\"\"},\"colorscale\":[[0.0,\"#0d0887\"],[0.1111111111111111,\"#46039f\"],[0.2222222222222222,\"#7201a8\"],[0.3333333333333333,\"#9c179e\"],[0.4444444444444444,\"#bd3786\"],[0.5555555555555556,\"#d8576b\"],[0.6666666666666666,\"#ed7953\"],[0.7777777777777778,\"#fb9f3a\"],[0.8888888888888888,\"#fdca26\"],[1.0,\"#f0f921\"]],\"type\":\"heatmap\"}],\"heatmapgl\":[{\"colorbar\":{\"outlinewidth\":0,\"ticks\":\"\"},\"colorscale\":[[0.0,\"#0d0887\"],[0.1111111111111111,\"#46039f\"],[0.2222222222222222,\"#7201a8\"],[0.3333333333333333,\"#9c179e\"],[0.4444444444444444,\"#bd3786\"],[0.5555555555555556,\"#d8576b\"],[0.6666666666666666,\"#ed7953\"],[0.7777777777777778,\"#fb9f3a\"],[0.8888888888888888,\"#fdca26\"],[1.0,\"#f0f921\"]],\"type\":\"heatmapgl\"}],\"histogram\":[{\"marker\":{\"pattern\":{\"fillmode\":\"overlay\",\"size\":10,\"solidity\":0.2}},\"type\":\"histogram\"}],\"histogram2d\":[{\"colorbar\":{\"outlinewidth\":0,\"ticks\":\"\"},\"colorscale\":[[0.0,\"#0d0887\"],[0.1111111111111111,\"#46039f\"],[0.2222222222222222,\"#7201a8\"],[0.3333333333333333,\"#9c179e\"],[0.4444444444444444,\"#bd3786\"],[0.5555555555555556,\"#d8576b\"],[0.6666666666666666,\"#ed7953\"],[0.7777777777777778,\"#fb9f3a\"],[0.8888888888888888,\"#fdca26\"],[1.0,\"#f0f921\"]],\"type\":\"histogram2d\"}],\"histogram2dcontour\":[{\"colorbar\":{\"outlinewidth\":0,\"ticks\":\"\"},\"colorscale\":[[0.0,\"#0d0887\"],[0.1111111111111111,\"#46039f\"],[0.2222222222222222,\"#7201a8\"],[0.3333333333333333,\"#9c179e\"],[0.4444444444444444,\"#bd3786\"],[0.5555555555555556,\"#d8576b\"],[0.6666666666666666,\"#ed7953\"],[0.7777777777777778,\"#fb9f3a\"],[0.8888888888888888,\"#fdca26\"],[1.0,\"#f0f921\"]],\"type\":\"histogram2dcontour\"}],\"mesh3d\":[{\"colorbar\":{\"outlinewidth\":0,\"ticks\":\"\"},\"type\":\"mesh3d\"}],\"parcoords\":[{\"line\":{\"colorbar\":{\"outlinewidth\":0,\"ticks\":\"\"}},\"type\":\"parcoords\"}],\"pie\":[{\"automargin\":true,\"type\":\"pie\"}],\"scatter\":[{\"marker\":{\"colorbar\":{\"outlinewidth\":0,\"ticks\":\"\"}},\"type\":\"scatter\"}],\"scatter3d\":[{\"line\":{\"colorbar\":{\"outlinewidth\":0,\"ticks\":\"\"}},\"marker\":{\"colorbar\":{\"outlinewidth\":0,\"ticks\":\"\"}},\"type\":\"scatter3d\"}],\"scattercarpet\":[{\"marker\":{\"colorbar\":{\"outlinewidth\":0,\"ticks\":\"\"}},\"type\":\"scattercarpet\"}],\"scattergeo\":[{\"marker\":{\"colorbar\":{\"outlinewidth\":0,\"ticks\":\"\"}},\"type\":\"scattergeo\"}],\"scattergl\":[{\"marker\":{\"colorbar\":{\"outlinewidth\":0,\"ticks\":\"\"}},\"type\":\"scattergl\"}],\"scattermapbox\":[{\"marker\":{\"colorbar\":{\"outlinewidth\":0,\"ticks\":\"\"}},\"type\":\"scattermapbox\"}],\"scatterpolar\":[{\"marker\":{\"colorbar\":{\"outlinewidth\":0,\"ticks\":\"\"}},\"type\":\"scatterpolar\"}],\"scatterpolargl\":[{\"marker\":{\"colorbar\":{\"outlinewidth\":0,\"ticks\":\"\"}},\"type\":\"scatterpolargl\"}],\"scatterternary\":[{\"marker\":{\"colorbar\":{\"outlinewidth\":0,\"ticks\":\"\"}},\"type\":\"scatterternary\"}],\"surface\":[{\"colorbar\":{\"outlinewidth\":0,\"ticks\":\"\"},\"colorscale\":[[0.0,\"#0d0887\"],[0.1111111111111111,\"#46039f\"],[0.2222222222222222,\"#7201a8\"],[0.3333333333333333,\"#9c179e\"],[0.4444444444444444,\"#bd3786\"],[0.5555555555555556,\"#d8576b\"],[0.6666666666666666,\"#ed7953\"],[0.7777777777777778,\"#fb9f3a\"],[0.8888888888888888,\"#fdca26\"],[1.0,\"#f0f921\"]],\"type\":\"surface\"}],\"table\":[{\"cells\":{\"fill\":{\"color\":\"#EBF0F8\"},\"line\":{\"color\":\"white\"}},\"header\":{\"fill\":{\"color\":\"#C8D4E3\"},\"line\":{\"color\":\"white\"}},\"type\":\"table\"}]},\"layout\":{\"annotationdefaults\":{\"arrowcolor\":\"#2a3f5f\",\"arrowhead\":0,\"arrowwidth\":1},\"autotypenumbers\":\"strict\",\"coloraxis\":{\"colorbar\":{\"outlinewidth\":0,\"ticks\":\"\"}},\"colorscale\":{\"diverging\":[[0,\"#8e0152\"],[0.1,\"#c51b7d\"],[0.2,\"#de77ae\"],[0.3,\"#f1b6da\"],[0.4,\"#fde0ef\"],[0.5,\"#f7f7f7\"],[0.6,\"#e6f5d0\"],[0.7,\"#b8e186\"],[0.8,\"#7fbc41\"],[0.9,\"#4d9221\"],[1,\"#276419\"]],\"sequential\":[[0.0,\"#0d0887\"],[0.1111111111111111,\"#46039f\"],[0.2222222222222222,\"#7201a8\"],[0.3333333333333333,\"#9c179e\"],[0.4444444444444444,\"#bd3786\"],[0.5555555555555556,\"#d8576b\"],[0.6666666666666666,\"#ed7953\"],[0.7777777777777778,\"#fb9f3a\"],[0.8888888888888888,\"#fdca26\"],[1.0,\"#f0f921\"]],\"sequentialminus\":[[0.0,\"#0d0887\"],[0.1111111111111111,\"#46039f\"],[0.2222222222222222,\"#7201a8\"],[0.3333333333333333,\"#9c179e\"],[0.4444444444444444,\"#bd3786\"],[0.5555555555555556,\"#d8576b\"],[0.6666666666666666,\"#ed7953\"],[0.7777777777777778,\"#fb9f3a\"],[0.8888888888888888,\"#fdca26\"],[1.0,\"#f0f921\"]]},\"colorway\":[\"#636efa\",\"#EF553B\",\"#00cc96\",\"#ab63fa\",\"#FFA15A\",\"#19d3f3\",\"#FF6692\",\"#B6E880\",\"#FF97FF\",\"#FECB52\"],\"font\":{\"color\":\"#2a3f5f\"},\"geo\":{\"bgcolor\":\"white\",\"lakecolor\":\"white\",\"landcolor\":\"#E5ECF6\",\"showlakes\":true,\"showland\":true,\"subunitcolor\":\"white\"},\"hoverlabel\":{\"align\":\"left\"},\"hovermode\":\"closest\",\"mapbox\":{\"style\":\"light\"},\"paper_bgcolor\":\"white\",\"plot_bgcolor\":\"#E5ECF6\",\"polar\":{\"angularaxis\":{\"gridcolor\":\"white\",\"linecolor\":\"white\",\"ticks\":\"\"},\"bgcolor\":\"#E5ECF6\",\"radialaxis\":{\"gridcolor\":\"white\",\"linecolor\":\"white\",\"ticks\":\"\"}},\"scene\":{\"xaxis\":{\"backgroundcolor\":\"#E5ECF6\",\"gridcolor\":\"white\",\"gridwidth\":2,\"linecolor\":\"white\",\"showbackground\":true,\"ticks\":\"\",\"zerolinecolor\":\"white\"},\"yaxis\":{\"backgroundcolor\":\"#E5ECF6\",\"gridcolor\":\"white\",\"gridwidth\":2,\"linecolor\":\"white\",\"showbackground\":true,\"ticks\":\"\",\"zerolinecolor\":\"white\"},\"zaxis\":{\"backgroundcolor\":\"#E5ECF6\",\"gridcolor\":\"white\",\"gridwidth\":2,\"linecolor\":\"white\",\"showbackground\":true,\"ticks\":\"\",\"zerolinecolor\":\"white\"}},\"shapedefaults\":{\"line\":{\"color\":\"#2a3f5f\"}},\"ternary\":{\"aaxis\":{\"gridcolor\":\"white\",\"linecolor\":\"white\",\"ticks\":\"\"},\"baxis\":{\"gridcolor\":\"white\",\"linecolor\":\"white\",\"ticks\":\"\"},\"bgcolor\":\"#E5ECF6\",\"caxis\":{\"gridcolor\":\"white\",\"linecolor\":\"white\",\"ticks\":\"\"}},\"title\":{\"x\":0.05},\"xaxis\":{\"automargin\":true,\"gridcolor\":\"white\",\"linecolor\":\"white\",\"ticks\":\"\",\"title\":{\"standoff\":15},\"zerolinecolor\":\"white\",\"zerolinewidth\":2},\"yaxis\":{\"automargin\":true,\"gridcolor\":\"white\",\"linecolor\":\"white\",\"ticks\":\"\",\"title\":{\"standoff\":15},\"zerolinecolor\":\"white\",\"zerolinewidth\":2}}},\"title\":{\"text\":\"How gender, partner and dependents are related to churn\"}},                        {\"responsive\": true}                    ).then(function(){\n",
              "                            \n",
              "var gd = document.getElementById('c8f9517a-e532-4f93-9fbf-017b8ebb7605');\n",
              "var x = new MutationObserver(function (mutations, observer) {{\n",
              "        var display = window.getComputedStyle(gd).display;\n",
              "        if (!display || display === 'none') {{\n",
              "            console.log([gd, 'removed!']);\n",
              "            Plotly.purge(gd);\n",
              "            observer.disconnect();\n",
              "        }}\n",
              "}});\n",
              "\n",
              "// Listen for the removal of the full notebook cells\n",
              "var notebookContainer = gd.closest('#notebook-container');\n",
              "if (notebookContainer) {{\n",
              "    x.observe(notebookContainer, {childList: true});\n",
              "}}\n",
              "\n",
              "// Listen for the clearing of the current output cell\n",
              "var outputEl = gd.closest('.output');\n",
              "if (outputEl) {{\n",
              "    x.observe(outputEl, {childList: true});\n",
              "}}\n",
              "\n",
              "                        })                };                            </script>        </div>\n",
              "</body>\n",
              "</html>"
            ]
          },
          "metadata": {}
        }
      ]
    },
    {
      "cell_type": "markdown",
      "metadata": {
        "id": "urqMwbGN0e1Z"
      },
      "source": [
        "> **whether male or female, if they do not have partner or dependent they more likely to be churn.**"
      ]
    },
    {
      "cell_type": "markdown",
      "metadata": {
        "id": "2-RlBzTFCL7Y"
      },
      "source": [
        "\n",
        "\n",
        "---\n",
        "\n"
      ]
    },
    {
      "cell_type": "markdown",
      "metadata": {
        "id": "petTyhE7w5f3"
      },
      "source": [
        "> **Insight on phone service and internet service column**"
      ]
    },
    {
      "cell_type": "code",
      "metadata": {
        "id": "P5XmMhUP7xVi",
        "colab": {
          "base_uri": "https://localhost:8080/",
          "height": 297
        },
        "outputId": "568c3833-f3ff-46cb-a4b4-3966256ce832"
      },
      "source": [
        "df.groupby(['Churn', 'PhoneService', 'InternetService']).size().reset_index(name='count')"
      ],
      "execution_count": 8,
      "outputs": [
        {
          "output_type": "execute_result",
          "data": {
            "text/html": [
              "<div>\n",
              "<style scoped>\n",
              "    .dataframe tbody tr th:only-of-type {\n",
              "        vertical-align: middle;\n",
              "    }\n",
              "\n",
              "    .dataframe tbody tr th {\n",
              "        vertical-align: top;\n",
              "    }\n",
              "\n",
              "    .dataframe thead th {\n",
              "        text-align: right;\n",
              "    }\n",
              "</style>\n",
              "<table border=\"1\" class=\"dataframe\">\n",
              "  <thead>\n",
              "    <tr style=\"text-align: right;\">\n",
              "      <th></th>\n",
              "      <th>Churn</th>\n",
              "      <th>PhoneService</th>\n",
              "      <th>InternetService</th>\n",
              "      <th>count</th>\n",
              "    </tr>\n",
              "  </thead>\n",
              "  <tbody>\n",
              "    <tr>\n",
              "      <th>0</th>\n",
              "      <td>No</td>\n",
              "      <td>No</td>\n",
              "      <td>DSL</td>\n",
              "      <td>512</td>\n",
              "    </tr>\n",
              "    <tr>\n",
              "      <th>1</th>\n",
              "      <td>No</td>\n",
              "      <td>Yes</td>\n",
              "      <td>DSL</td>\n",
              "      <td>1450</td>\n",
              "    </tr>\n",
              "    <tr>\n",
              "      <th>2</th>\n",
              "      <td>No</td>\n",
              "      <td>Yes</td>\n",
              "      <td>Fiber optic</td>\n",
              "      <td>1799</td>\n",
              "    </tr>\n",
              "    <tr>\n",
              "      <th>3</th>\n",
              "      <td>No</td>\n",
              "      <td>Yes</td>\n",
              "      <td>No</td>\n",
              "      <td>1413</td>\n",
              "    </tr>\n",
              "    <tr>\n",
              "      <th>4</th>\n",
              "      <td>Yes</td>\n",
              "      <td>No</td>\n",
              "      <td>DSL</td>\n",
              "      <td>170</td>\n",
              "    </tr>\n",
              "    <tr>\n",
              "      <th>5</th>\n",
              "      <td>Yes</td>\n",
              "      <td>Yes</td>\n",
              "      <td>DSL</td>\n",
              "      <td>289</td>\n",
              "    </tr>\n",
              "    <tr>\n",
              "      <th>6</th>\n",
              "      <td>Yes</td>\n",
              "      <td>Yes</td>\n",
              "      <td>Fiber optic</td>\n",
              "      <td>1297</td>\n",
              "    </tr>\n",
              "    <tr>\n",
              "      <th>7</th>\n",
              "      <td>Yes</td>\n",
              "      <td>Yes</td>\n",
              "      <td>No</td>\n",
              "      <td>113</td>\n",
              "    </tr>\n",
              "  </tbody>\n",
              "</table>\n",
              "</div>"
            ],
            "text/plain": [
              "  Churn PhoneService InternetService  count\n",
              "0    No           No             DSL    512\n",
              "1    No          Yes             DSL   1450\n",
              "2    No          Yes     Fiber optic   1799\n",
              "3    No          Yes              No   1413\n",
              "4   Yes           No             DSL    170\n",
              "5   Yes          Yes             DSL    289\n",
              "6   Yes          Yes     Fiber optic   1297\n",
              "7   Yes          Yes              No    113"
            ]
          },
          "metadata": {},
          "execution_count": 8
        }
      ]
    },
    {
      "cell_type": "code",
      "metadata": {
        "colab": {
          "base_uri": "https://localhost:8080/",
          "height": 297
        },
        "id": "nCnFvjEjz8P_",
        "outputId": "be294105-0c8b-42ea-a26e-a5b6a2c2f524"
      },
      "source": [
        "sns.countplot(x='Churn',data=df,hue='InternetService',palette=\"Blues\")"
      ],
      "execution_count": 9,
      "outputs": [
        {
          "output_type": "execute_result",
          "data": {
            "text/plain": [
              "<matplotlib.axes._subplots.AxesSubplot at 0x7f93ec3caa50>"
            ]
          },
          "metadata": {},
          "execution_count": 9
        },
        {
          "output_type": "display_data",
          "data": {
            "image/png": "[encoded data removed]",
            "text/plain": [
              "<Figure size 432x288 with 1 Axes>"
            ]
          },
          "metadata": {
            "needs_background": "light"
          }
        }
      ]
    },
    {
      "cell_type": "code",
      "metadata": {
        "colab": {
          "base_uri": "https://localhost:8080/",
          "height": 297
        },
        "id": "c_yQEcrO8oN8",
        "outputId": "bef076aa-c655-402e-8741-018a4a447d57"
      },
      "source": [
        "sns.countplot(x='Churn',data=df,hue='PhoneService',palette=\"Blues\")"
      ],
      "execution_count": 10,
      "outputs": [
        {
          "output_type": "execute_result",
          "data": {
            "text/plain": [
              "<matplotlib.axes._subplots.AxesSubplot at 0x7f93ea75bdd0>"
            ]
          },
          "metadata": {},
          "execution_count": 10
        },
        {
          "output_type": "display_data",
          "data": {
            "image/png": "[encoded data removed]",
            "text/plain": [
              "<Figure size 432x288 with 1 Axes>"
            ]
          },
          "metadata": {
            "needs_background": "light"
          }
        }
      ]
    },
    {
      "cell_type": "markdown",
      "metadata": {
        "id": "rPdHHxEC8-Xl"
      },
      "source": [
        ">**In both graphs, fiber optic and phone service churn more.**"
      ]
    },
    {
      "cell_type": "code",
      "metadata": {
        "colab": {
          "base_uri": "https://localhost:8080/",
          "height": 297
        },
        "id": "pNgX7f99mLv-",
        "outputId": "dacf125b-6958-4bb7-c0e2-c37c0bbe9024"
      },
      "source": [
        "sns.countplot(x='Churn',data=df, hue='MultipleLines',palette='Blues')\n"
      ],
      "execution_count": 11,
      "outputs": [
        {
          "output_type": "execute_result",
          "data": {
            "text/plain": [
              "<matplotlib.axes._subplots.AxesSubplot at 0x7f93ec397450>"
            ]
          },
          "metadata": {},
          "execution_count": 11
        },
        {
          "output_type": "display_data",
          "data": {
            "image/png": "[encoded data removed]",
            "text/plain": [
              "<Figure size 432x288 with 1 Axes>"
            ]
          },
          "metadata": {
            "needs_background": "light"
          }
        }
      ]
    },
    {
      "cell_type": "markdown",
      "metadata": {
        "id": "EtHbKKYtmmKR"
      },
      "source": [
        ">**In above plot multiple lines service has lower churn rate.**"
      ]
    },
    {
      "cell_type": "code",
      "metadata": {
        "colab": {
          "base_uri": "https://localhost:8080/",
          "height": 297
        },
        "id": "4bUcW-BQnCxs",
        "outputId": "56991d69-5764-4746-90ea-3101f384d50c"
      },
      "source": [
        "sns.countplot(x='Churn',data=df, hue='StreamingTV',palette='Blues')\n"
      ],
      "execution_count": 12,
      "outputs": [
        {
          "output_type": "execute_result",
          "data": {
            "text/plain": [
              "<matplotlib.axes._subplots.AxesSubplot at 0x7f93ea6a8f10>"
            ]
          },
          "metadata": {},
          "execution_count": 12
        },
        {
          "output_type": "display_data",
          "data": {
            "image/png": "[encoded data removed]",
            "text/plain": [
              "<Figure size 432x288 with 1 Axes>"
            ]
          },
          "metadata": {
            "needs_background": "light"
          }
        }
      ]
    },
    {
      "cell_type": "markdown",
      "metadata": {
        "id": "hn8YQRHsnrRh"
      },
      "source": [
        ">**In above plot, for streamingtv services also has lower churn rate.**"
      ]
    },
    {
      "cell_type": "code",
      "metadata": {
        "colab": {
          "base_uri": "https://localhost:8080/",
          "height": 297
        },
        "id": "xMUOpzoJ92ib",
        "outputId": "401ac080-c553-4237-b498-0e364ff7bc6a"
      },
      "source": [
        "sns.countplot(x='Churn',data=df,hue='TechSupport',palette=\"Blues\")"
      ],
      "execution_count": 13,
      "outputs": [
        {
          "output_type": "execute_result",
          "data": {
            "text/plain": [
              "<matplotlib.axes._subplots.AxesSubplot at 0x7f93ea5c4810>"
            ]
          },
          "metadata": {},
          "execution_count": 13
        },
        {
          "output_type": "display_data",
          "data": {
            "image/png": "[encoded data removed]",
            "text/plain": [
              "<Figure size 432x288 with 1 Axes>"
            ]
          },
          "metadata": {
            "needs_background": "light"
          }
        }
      ]
    },
    {
      "cell_type": "markdown",
      "metadata": {
        "id": "5fc9fNmU98xW"
      },
      "source": [
        ">**customer with techsupport-No are more churn.** "
      ]
    },
    {
      "cell_type": "code",
      "metadata": {
        "colab": {
          "base_uri": "https://localhost:8080/",
          "height": 235
        },
        "id": "rRvyTbTO-02A",
        "outputId": "c4ebd38b-7cbd-43f1-a8a8-408b91ab265e"
      },
      "source": [
        "df.groupby(['Churn', 'StreamingMovies']).size().reset_index(name='count')"
      ],
      "execution_count": 14,
      "outputs": [
        {
          "output_type": "execute_result",
          "data": {
            "text/html": [
              "<div>\n",
              "<style scoped>\n",
              "    .dataframe tbody tr th:only-of-type {\n",
              "        vertical-align: middle;\n",
              "    }\n",
              "\n",
              "    .dataframe tbody tr th {\n",
              "        vertical-align: top;\n",
              "    }\n",
              "\n",
              "    .dataframe thead th {\n",
              "        text-align: right;\n",
              "    }\n",
              "</style>\n",
              "<table border=\"1\" class=\"dataframe\">\n",
              "  <thead>\n",
              "    <tr style=\"text-align: right;\">\n",
              "      <th></th>\n",
              "      <th>Churn</th>\n",
              "      <th>StreamingMovies</th>\n",
              "      <th>count</th>\n",
              "    </tr>\n",
              "  </thead>\n",
              "  <tbody>\n",
              "    <tr>\n",
              "      <th>0</th>\n",
              "      <td>No</td>\n",
              "      <td>No</td>\n",
              "      <td>1847</td>\n",
              "    </tr>\n",
              "    <tr>\n",
              "      <th>1</th>\n",
              "      <td>No</td>\n",
              "      <td>No internet service</td>\n",
              "      <td>1413</td>\n",
              "    </tr>\n",
              "    <tr>\n",
              "      <th>2</th>\n",
              "      <td>No</td>\n",
              "      <td>Yes</td>\n",
              "      <td>1914</td>\n",
              "    </tr>\n",
              "    <tr>\n",
              "      <th>3</th>\n",
              "      <td>Yes</td>\n",
              "      <td>No</td>\n",
              "      <td>938</td>\n",
              "    </tr>\n",
              "    <tr>\n",
              "      <th>4</th>\n",
              "      <td>Yes</td>\n",
              "      <td>No internet service</td>\n",
              "      <td>113</td>\n",
              "    </tr>\n",
              "    <tr>\n",
              "      <th>5</th>\n",
              "      <td>Yes</td>\n",
              "      <td>Yes</td>\n",
              "      <td>818</td>\n",
              "    </tr>\n",
              "  </tbody>\n",
              "</table>\n",
              "</div>"
            ],
            "text/plain": [
              "  Churn      StreamingMovies  count\n",
              "0    No                   No   1847\n",
              "1    No  No internet service   1413\n",
              "2    No                  Yes   1914\n",
              "3   Yes                   No    938\n",
              "4   Yes  No internet service    113\n",
              "5   Yes                  Yes    818"
            ]
          },
          "metadata": {},
          "execution_count": 14
        }
      ]
    },
    {
      "cell_type": "code",
      "metadata": {
        "colab": {
          "base_uri": "https://localhost:8080/",
          "height": 300
        },
        "id": "woaXjeOf_kh9",
        "outputId": "4762a1e7-8401-4326-bac1-b399fd03d124"
      },
      "source": [
        "sns.countplot(x='Churn',data=df,hue='StreamingMovies',palette=\"Blues\")"
      ],
      "execution_count": 15,
      "outputs": [
        {
          "output_type": "execute_result",
          "data": {
            "text/plain": [
              "<matplotlib.axes._subplots.AxesSubplot at 0x7f93ea54a550>"
            ]
          },
          "metadata": {},
          "execution_count": 15
        },
        {
          "output_type": "display_data",
          "data": {
            "image/png": "[encoded data removed]",
            "text/plain": [
              "<Figure size 432x288 with 1 Axes>"
            ]
          },
          "metadata": {
            "needs_background": "light"
          }
        }
      ]
    },
    {
      "cell_type": "markdown",
      "metadata": {
        "id": "Vrf9HrRG_vkb"
      },
      "source": [
        ">**In above plot for StreamingMovies churn rate is low.** "
      ]
    },
    {
      "cell_type": "markdown",
      "metadata": {
        "id": "oK4XCH9dC2TO"
      },
      "source": [
        "\n",
        "\n",
        "---\n",
        "\n"
      ]
    },
    {
      "cell_type": "markdown",
      "metadata": {
        "id": "l8eiwr6NqQOp"
      },
      "source": [
        ">**Data visualization for Numeric data**"
      ]
    },
    {
      "cell_type": "code",
      "metadata": {
        "colab": {
          "base_uri": "https://localhost:8080/",
          "height": 297
        },
        "id": "WfJm2VxBqVoi",
        "outputId": "50c0a3ef-1d2a-4fe9-d820-fc1a21de51f4"
      },
      "source": [
        "ax = sns.histplot(x = 'tenure', hue = 'Churn', data = df, multiple='dodge',palette='Blues_r')\n",
        "ax.set(xlabel=\"Tenure in Months\", ylabel = \"Count\")\n"
      ],
      "execution_count": 16,
      "outputs": [
        {
          "output_type": "execute_result",
          "data": {
            "text/plain": [
              "[Text(0, 0.5, 'Count'), Text(0.5, 0, 'Tenure in Months')]"
            ]
          },
          "metadata": {},
          "execution_count": 16
        },
        {
          "output_type": "display_data",
          "data": {
            "image/png": "[encoded data removed]",
            "text/plain": [
              "<Figure size 432x288 with 1 Axes>"
            ]
          },
          "metadata": {
            "needs_background": "light"
          }
        }
      ]
    },
    {
      "cell_type": "markdown",
      "metadata": {
        "id": "AkMHMSIQri52"
      },
      "source": [
        ">**In above plot it shows churn amount in first 5 to 6 months is higher, it is the initial time when customer try out the service and decide whether continue or cancel.**"
      ]
    },
    {
      "cell_type": "markdown",
      "metadata": {
        "id": "lPays1pVDC0c"
      },
      "source": [
        "\n",
        "\n",
        "---\n",
        "\n"
      ]
    },
    {
      "cell_type": "markdown",
      "metadata": {
        "id": "_UqRUvK3L9Rh"
      },
      "source": [
        ">**Data analysis profile creation using Panadas Profile report---**"
      ]
    },
    {
      "cell_type": "code",
      "metadata": {
        "id": "AOQENEb6vQQl"
      },
      "source": [
        " # generating the profile report by passing the dataframe object to the profiling function\n",
        "profile = ProfileReport(df)\n",
        "profile\n",
        "# profile.to_file(\"Analysis.html)\n",
        " profile.to_file(\"/content/drive/MyDrive/Data-Science-Collection/churn_analysis_report.html\")"
      ],
      "execution_count": null,
      "outputs": []
    },
    {
      "cell_type": "markdown",
      "metadata": {
        "id": "envvUJi7GVSU"
      },
      "source": [
        "\n",
        "\n",
        "---\n",
        "\n"
      ]
    },
    {
      "cell_type": "markdown",
      "metadata": {
        "id": "Krw2vRWKvWKb"
      },
      "source": [
        ">**Encoding categorical variable---**"
      ]
    },
    {
      "cell_type": "code",
      "metadata": {
        "id": "eoOrSQICmua0"
      },
      "source": [
        "#Encoding the categorical variables using label encoder\n",
        "def MultiLabelEncoder(columnlist,dataframe):\n",
        "    for i in columnlist:\n",
        "\n",
        "        labelencoder_X = LabelEncoder()\n",
        "        dataframe[i] = labelencoder_X.fit_transform(dataframe[i])\n",
        "\n",
        "\n",
        "columnlist = ['customerID','gender','Partner','Dependents','PhoneService','MultipleLines','InternetService','OnlineSecurity','OnlineBackup',\n",
        "              'DeviceProtection','TechSupport','StreamingTV','StreamingMovies','Contract','PaperlessBilling','PaymentMethod']\n",
        "MultiLabelEncoder(columnlist,df)"
      ],
      "execution_count": 17,
      "outputs": []
    },
    {
      "cell_type": "markdown",
      "metadata": {
        "id": "XB0QmpRjMlQk"
      },
      "source": [
        ">**Chcecking datatype after encoding except 'churn' column**"
      ]
    },
    {
      "cell_type": "code",
      "metadata": {
        "colab": {
          "base_uri": "https://localhost:8080/"
        },
        "id": "yDHPS35msdve",
        "outputId": "cb2cd7d4-7cb9-48f3-87ba-4938ea3931a4"
      },
      "source": [
        "df.dtypes"
      ],
      "execution_count": 18,
      "outputs": [
        {
          "output_type": "execute_result",
          "data": {
            "text/plain": [
              "customerID            int64\n",
              "gender                int64\n",
              "SeniorCitizen         int64\n",
              "Partner               int64\n",
              "Dependents            int64\n",
              "tenure                int64\n",
              "PhoneService          int64\n",
              "MultipleLines         int64\n",
              "InternetService       int64\n",
              "OnlineSecurity        int64\n",
              "OnlineBackup          int64\n",
              "DeviceProtection      int64\n",
              "TechSupport           int64\n",
              "StreamingTV           int64\n",
              "StreamingMovies       int64\n",
              "Contract              int64\n",
              "PaperlessBilling      int64\n",
              "PaymentMethod         int64\n",
              "MonthlyCharges      float64\n",
              "TotalCharges        float64\n",
              "Churn                object\n",
              "dtype: object"
            ]
          },
          "metadata": {},
          "execution_count": 18
        }
      ]
    },
    {
      "cell_type": "markdown",
      "metadata": {
        "id": "GDHD63oAsi-f"
      },
      "source": [
        " >**successfully encoded object datatype into integer using label encoder.**"
      ]
    },
    {
      "cell_type": "code",
      "metadata": {
        "colab": {
          "base_uri": "https://localhost:8080/",
          "height": 224
        },
        "id": "pF8awV9JshI_",
        "outputId": "980e4fa9-bb2e-4585-8955-8878c7c00cba"
      },
      "source": [
        "df.head()"
      ],
      "execution_count": 19,
      "outputs": [
        {
          "output_type": "execute_result",
          "data": {
            "text/html": [
              "<div>\n",
              "<style scoped>\n",
              "    .dataframe tbody tr th:only-of-type {\n",
              "        vertical-align: middle;\n",
              "    }\n",
              "\n",
              "    .dataframe tbody tr th {\n",
              "        vertical-align: top;\n",
              "    }\n",
              "\n",
              "    .dataframe thead th {\n",
              "        text-align: right;\n",
              "    }\n",
              "</style>\n",
              "<table border=\"1\" class=\"dataframe\">\n",
              "  <thead>\n",
              "    <tr style=\"text-align: right;\">\n",
              "      <th></th>\n",
              "      <th>customerID</th>\n",
              "      <th>gender</th>\n",
              "      <th>SeniorCitizen</th>\n",
              "      <th>Partner</th>\n",
              "      <th>Dependents</th>\n",
              "      <th>tenure</th>\n",
              "      <th>PhoneService</th>\n",
              "      <th>MultipleLines</th>\n",
              "      <th>InternetService</th>\n",
              "      <th>OnlineSecurity</th>\n",
              "      <th>OnlineBackup</th>\n",
              "      <th>DeviceProtection</th>\n",
              "      <th>TechSupport</th>\n",
              "      <th>StreamingTV</th>\n",
              "      <th>StreamingMovies</th>\n",
              "      <th>Contract</th>\n",
              "      <th>PaperlessBilling</th>\n",
              "      <th>PaymentMethod</th>\n",
              "      <th>MonthlyCharges</th>\n",
              "      <th>TotalCharges</th>\n",
              "      <th>Churn</th>\n",
              "    </tr>\n",
              "  </thead>\n",
              "  <tbody>\n",
              "    <tr>\n",
              "      <th>0</th>\n",
              "      <td>5375</td>\n",
              "      <td>0</td>\n",
              "      <td>0</td>\n",
              "      <td>1</td>\n",
              "      <td>0</td>\n",
              "      <td>1</td>\n",
              "      <td>0</td>\n",
              "      <td>1</td>\n",
              "      <td>0</td>\n",
              "      <td>0</td>\n",
              "      <td>2</td>\n",
              "      <td>0</td>\n",
              "      <td>0</td>\n",
              "      <td>0</td>\n",
              "      <td>0</td>\n",
              "      <td>0</td>\n",
              "      <td>1</td>\n",
              "      <td>2</td>\n",
              "      <td>29.85</td>\n",
              "      <td>29.85</td>\n",
              "      <td>No</td>\n",
              "    </tr>\n",
              "    <tr>\n",
              "      <th>1</th>\n",
              "      <td>3962</td>\n",
              "      <td>1</td>\n",
              "      <td>0</td>\n",
              "      <td>0</td>\n",
              "      <td>0</td>\n",
              "      <td>34</td>\n",
              "      <td>1</td>\n",
              "      <td>0</td>\n",
              "      <td>0</td>\n",
              "      <td>2</td>\n",
              "      <td>0</td>\n",
              "      <td>2</td>\n",
              "      <td>0</td>\n",
              "      <td>0</td>\n",
              "      <td>0</td>\n",
              "      <td>1</td>\n",
              "      <td>0</td>\n",
              "      <td>3</td>\n",
              "      <td>56.95</td>\n",
              "      <td>1889.50</td>\n",
              "      <td>No</td>\n",
              "    </tr>\n",
              "    <tr>\n",
              "      <th>2</th>\n",
              "      <td>2564</td>\n",
              "      <td>1</td>\n",
              "      <td>0</td>\n",
              "      <td>0</td>\n",
              "      <td>0</td>\n",
              "      <td>2</td>\n",
              "      <td>1</td>\n",
              "      <td>0</td>\n",
              "      <td>0</td>\n",
              "      <td>2</td>\n",
              "      <td>2</td>\n",
              "      <td>0</td>\n",
              "      <td>0</td>\n",
              "      <td>0</td>\n",
              "      <td>0</td>\n",
              "      <td>0</td>\n",
              "      <td>1</td>\n",
              "      <td>3</td>\n",
              "      <td>53.85</td>\n",
              "      <td>108.15</td>\n",
              "      <td>Yes</td>\n",
              "    </tr>\n",
              "    <tr>\n",
              "      <th>3</th>\n",
              "      <td>5535</td>\n",
              "      <td>1</td>\n",
              "      <td>0</td>\n",
              "      <td>0</td>\n",
              "      <td>0</td>\n",
              "      <td>45</td>\n",
              "      <td>0</td>\n",
              "      <td>1</td>\n",
              "      <td>0</td>\n",
              "      <td>2</td>\n",
              "      <td>0</td>\n",
              "      <td>2</td>\n",
              "      <td>2</td>\n",
              "      <td>0</td>\n",
              "      <td>0</td>\n",
              "      <td>1</td>\n",
              "      <td>0</td>\n",
              "      <td>0</td>\n",
              "      <td>42.30</td>\n",
              "      <td>1840.75</td>\n",
              "      <td>No</td>\n",
              "    </tr>\n",
              "    <tr>\n",
              "      <th>4</th>\n",
              "      <td>6511</td>\n",
              "      <td>0</td>\n",
              "      <td>0</td>\n",
              "      <td>0</td>\n",
              "      <td>0</td>\n",
              "      <td>2</td>\n",
              "      <td>1</td>\n",
              "      <td>0</td>\n",
              "      <td>1</td>\n",
              "      <td>0</td>\n",
              "      <td>0</td>\n",
              "      <td>0</td>\n",
              "      <td>0</td>\n",
              "      <td>0</td>\n",
              "      <td>0</td>\n",
              "      <td>0</td>\n",
              "      <td>1</td>\n",
              "      <td>2</td>\n",
              "      <td>70.70</td>\n",
              "      <td>151.65</td>\n",
              "      <td>Yes</td>\n",
              "    </tr>\n",
              "  </tbody>\n",
              "</table>\n",
              "</div>"
            ],
            "text/plain": [
              "   customerID  gender  SeniorCitizen  ...  MonthlyCharges  TotalCharges  Churn\n",
              "0        5375       0              0  ...           29.85         29.85     No\n",
              "1        3962       1              0  ...           56.95       1889.50     No\n",
              "2        2564       1              0  ...           53.85        108.15    Yes\n",
              "3        5535       1              0  ...           42.30       1840.75     No\n",
              "4        6511       0              0  ...           70.70        151.65    Yes\n",
              "\n",
              "[5 rows x 21 columns]"
            ]
          },
          "metadata": {},
          "execution_count": 19
        }
      ]
    },
    {
      "cell_type": "markdown",
      "metadata": {
        "id": "Vy23vLEEvtIM"
      },
      "source": [
        ">**Correlation among all variables.**"
      ]
    },
    {
      "cell_type": "code",
      "metadata": {
        "colab": {
          "base_uri": "https://localhost:8080/",
          "height": 348
        },
        "id": "_QzowKgivcN6",
        "outputId": "c049990a-ad24-4216-dec2-5c0c27d90e53"
      },
      "source": [
        "#Correlation visualization among all variables\n",
        "corr = df.corr()\n",
        "fig = plt.figure()\n",
        "ax = fig.add_subplot(111)\n",
        "cax = ax.matshow(corr,cmap='coolwarm', vmin=-1, vmax=1)\n",
        "fig.colorbar(cax)\n",
        "ticks = np.arange(0,len(df.columns),1)\n",
        "ax.set_xticks(ticks)\n",
        "plt.xticks(rotation = 90)\n",
        "ax.set_yticks(ticks)\n",
        "ax.set_xticklabels(df.columns)\n",
        "ax.set_yticklabels(df.columns)\n",
        "plt.show()"
      ],
      "execution_count": 20,
      "outputs": [
        {
          "output_type": "display_data",
          "data": {
            "image/png": "[encoded data removed]",
            "text/plain": [
              "<Figure size 432x288 with 2 Axes>"
            ]
          },
          "metadata": {
            "needs_background": "light"
          }
        }
      ]
    },
    {
      "cell_type": "markdown",
      "metadata": {
        "id": "s09lv5Eh3ZIW"
      },
      "source": [
        ">**Feature selection\n",
        "Using correlation matrix**"
      ]
    },
    {
      "cell_type": "code",
      "metadata": {
        "colab": {
          "base_uri": "https://localhost:8080/",
          "height": 961
        },
        "id": "zCF10WCeyIXL",
        "outputId": "74a65e93-4870-4a52-b0dd-fadbc5ff2572"
      },
      "source": [
        "#correlation matrix visualization\n",
        "corrmat = df.corr() \n",
        "  \n",
        "f, ax = plt.subplots(figsize =(12, 15)) \n",
        "\n",
        "ax = sns.heatmap(corrmat,\n",
        "                 annot=True,\n",
        "                 linewidths=0.5,\n",
        "                 fmt=\".2f\",\n",
        "                 cmap=\"YlGnBu\");\n",
        "bottom, top = ax.get_ylim()\n",
        "ax.set_ylim(bottom + 0.5, top - 0.5)"
      ],
      "execution_count": 21,
      "outputs": [
        {
          "output_type": "execute_result",
          "data": {
            "text/plain": [
              "(20.5, -0.5)"
            ]
          },
          "metadata": {},
          "execution_count": 21
        },
        {
          "output_type": "display_data",
          "data": {
            "image/png": "[encoded data removed]",
            "text/plain": [
              "<Figure size 864x1080 with 2 Axes>"
            ]
          },
          "metadata": {
            "needs_background": "light"
          }
        }
      ]
    },
    {
      "cell_type": "markdown",
      "metadata": {
        "id": "frLnSgCxygGj"
      },
      "source": [
        ">**In above correlation matrix TotalCharges, MonthlyCharges and Tenure showing very strong relationship**"
      ]
    },
    {
      "cell_type": "code",
      "metadata": {
        "id": "_9lf7V92XNnw"
      },
      "source": [
        "corr_check = df[['MonthlyCharges', 'TotalCharges', 'tenure']].copy()"
      ],
      "execution_count": 22,
      "outputs": []
    },
    {
      "cell_type": "code",
      "metadata": {
        "colab": {
          "base_uri": "https://localhost:8080/",
          "height": 142
        },
        "id": "e8g_si4EF1WU",
        "outputId": "d6c8488f-297c-45ea-d10d-b453e29b9a89"
      },
      "source": [
        "corr_check.corr(method='pearson')\n"
      ],
      "execution_count": 23,
      "outputs": [
        {
          "output_type": "execute_result",
          "data": {
            "text/html": [
              "<div>\n",
              "<style scoped>\n",
              "    .dataframe tbody tr th:only-of-type {\n",
              "        vertical-align: middle;\n",
              "    }\n",
              "\n",
              "    .dataframe tbody tr th {\n",
              "        vertical-align: top;\n",
              "    }\n",
              "\n",
              "    .dataframe thead th {\n",
              "        text-align: right;\n",
              "    }\n",
              "</style>\n",
              "<table border=\"1\" class=\"dataframe\">\n",
              "  <thead>\n",
              "    <tr style=\"text-align: right;\">\n",
              "      <th></th>\n",
              "      <th>MonthlyCharges</th>\n",
              "      <th>TotalCharges</th>\n",
              "      <th>tenure</th>\n",
              "    </tr>\n",
              "  </thead>\n",
              "  <tbody>\n",
              "    <tr>\n",
              "      <th>MonthlyCharges</th>\n",
              "      <td>1.000000</td>\n",
              "      <td>0.651174</td>\n",
              "      <td>0.247900</td>\n",
              "    </tr>\n",
              "    <tr>\n",
              "      <th>TotalCharges</th>\n",
              "      <td>0.651174</td>\n",
              "      <td>1.000000</td>\n",
              "      <td>0.826178</td>\n",
              "    </tr>\n",
              "    <tr>\n",
              "      <th>tenure</th>\n",
              "      <td>0.247900</td>\n",
              "      <td>0.826178</td>\n",
              "      <td>1.000000</td>\n",
              "    </tr>\n",
              "  </tbody>\n",
              "</table>\n",
              "</div>"
            ],
            "text/plain": [
              "                MonthlyCharges  TotalCharges    tenure\n",
              "MonthlyCharges        1.000000      0.651174  0.247900\n",
              "TotalCharges          0.651174      1.000000  0.826178\n",
              "tenure                0.247900      0.826178  1.000000"
            ]
          },
          "metadata": {},
          "execution_count": 23
        }
      ]
    },
    {
      "cell_type": "markdown",
      "metadata": {
        "id": "tpfQJtrBNftt"
      },
      "source": [
        ">**After observing correlation matrix, dropping unnecessary columns--**"
      ]
    },
    {
      "cell_type": "code",
      "metadata": {
        "id": "LuJXBvSHsc3l"
      },
      "source": [
        "df = df.drop(columns=['customerID','SeniorCitizen','gender','PaperlessBilling','PaymentMethod'])      \n"
      ],
      "execution_count": 24,
      "outputs": []
    },
    {
      "cell_type": "markdown",
      "metadata": {
        "id": "6bAAq0b8u49r"
      },
      "source": [
        ">**After observing correlation matrix, i concluded that above five columns are less necessary so decided to drop it from dataframe.**"
      ]
    },
    {
      "cell_type": "code",
      "metadata": {
        "colab": {
          "base_uri": "https://localhost:8080/"
        },
        "id": "vrGh9zdovIBn",
        "outputId": "8a9bde25-dd99-488d-a276-bab7b157d736"
      },
      "source": [
        "df.columns"
      ],
      "execution_count": 25,
      "outputs": [
        {
          "output_type": "execute_result",
          "data": {
            "text/plain": [
              "Index(['Partner', 'Dependents', 'tenure', 'PhoneService', 'MultipleLines',\n",
              "       'InternetService', 'OnlineSecurity', 'OnlineBackup', 'DeviceProtection',\n",
              "       'TechSupport', 'StreamingTV', 'StreamingMovies', 'Contract',\n",
              "       'MonthlyCharges', 'TotalCharges', 'Churn'],\n",
              "      dtype='object')"
            ]
          },
          "metadata": {},
          "execution_count": 25
        }
      ]
    },
    {
      "cell_type": "code",
      "metadata": {
        "colab": {
          "base_uri": "https://localhost:8080/"
        },
        "id": "-goSS1GWwYMv",
        "outputId": "d6712b1d-89ef-498e-e427-652d8e7c9f6c"
      },
      "source": [
        "df['Churn'].value_counts()     ### 0 -> No churn(No)\n",
        "                              #### 1 -> churn(Yes)"
      ],
      "execution_count": 26,
      "outputs": [
        {
          "output_type": "execute_result",
          "data": {
            "text/plain": [
              "No     5174\n",
              "Yes    1869\n",
              "Name: Churn, dtype: int64"
            ]
          },
          "metadata": {},
          "execution_count": 26
        }
      ]
    },
    {
      "cell_type": "markdown",
      "metadata": {
        "id": "D-acDHfZ4Je-"
      },
      "source": [
        ">**Dataset splitting into training and testing set**"
      ]
    },
    {
      "cell_type": "code",
      "metadata": {
        "id": "yxpJM_LZ4dNf"
      },
      "source": [
        "y = df.Churn\n",
        "X = df.drop('Churn',axis=1)"
      ],
      "execution_count": 27,
      "outputs": []
    },
    {
      "cell_type": "code",
      "metadata": {
        "id": "GvCH3zwn4lmq"
      },
      "source": [
        "X.head()"
      ],
      "execution_count": null,
      "outputs": []
    },
    {
      "cell_type": "markdown",
      "metadata": {
        "id": "yb4AOXE4OAlI"
      },
      "source": [
        ">**Features Scaling**"
      ]
    },
    {
      "cell_type": "code",
      "metadata": {
        "id": "TSbK9CPhKUlE"
      },
      "source": [
        "cols = X.columns # keeping the names of all columns\n",
        "scaler = preprocessing.MinMaxScaler()\n",
        "x_scaled = scaler.fit_transform(X)\n",
        "X_encoded_scaled = pd.DataFrame(x_scaled, columns=cols)"
      ],
      "execution_count": 28,
      "outputs": []
    },
    {
      "cell_type": "code",
      "metadata": {
        "colab": {
          "base_uri": "https://localhost:8080/"
        },
        "id": "bIo6ECS6WUm7",
        "outputId": "925a768a-4452-440f-83fe-a6472fb95063"
      },
      "source": [
        "y"
      ],
      "execution_count": 29,
      "outputs": [
        {
          "output_type": "execute_result",
          "data": {
            "text/plain": [
              "0        No\n",
              "1        No\n",
              "2       Yes\n",
              "3        No\n",
              "4       Yes\n",
              "       ... \n",
              "7038     No\n",
              "7039     No\n",
              "7040     No\n",
              "7041    Yes\n",
              "7042     No\n",
              "Name: Churn, Length: 7043, dtype: object"
            ]
          },
          "metadata": {},
          "execution_count": 29
        }
      ]
    },
    {
      "cell_type": "markdown",
      "metadata": {
        "id": "qxumK9U2OKyr"
      },
      "source": [
        ">**Converting 'y' variable into numpy array.**"
      ]
    },
    {
      "cell_type": "code",
      "metadata": {
        "colab": {
          "base_uri": "https://localhost:8080/"
        },
        "id": "xeTr8T4hWbbC",
        "outputId": "1178d4c7-53fd-4731-9d26-9a77b55c9a6b"
      },
      "source": [
        "print(\"Before encoding: \", y.unique())\n",
        "\n",
        "y = np.where(y.str.contains(\"Yes\"), 1, 0)\n",
        "\n",
        "print(\"After encoding: \", y) # Now y is a numpy array"
      ],
      "execution_count": 30,
      "outputs": [
        {
          "output_type": "stream",
          "name": "stdout",
          "text": [
            "Before encoding:  ['No' 'Yes']\n",
            "After encoding:  [0 0 1 ... 0 1 0]\n"
          ]
        }
      ]
    },
    {
      "cell_type": "markdown",
      "metadata": {
        "id": "VeLvc0apOVf_"
      },
      "source": [
        ">**Data splitting into training and testing dataset**"
      ]
    },
    {
      "cell_type": "code",
      "metadata": {
        "id": "G695uolh4I59"
      },
      "source": [
        "X_train, X_test, y_train, y_test = train_test_split(X, y, test_size=0.2, random_state=41)"
      ],
      "execution_count": 31,
      "outputs": []
    },
    {
      "cell_type": "markdown",
      "metadata": {
        "id": "41tKpexo3dCh"
      },
      "source": [
        "> **Model Building -**\n",
        "> \n",
        "> 1.   Logistic Regression\n",
        "> 2.   Random Forest\n",
        "> 3.   Gradient Boosting classifier \n",
        "> 4.   Support Vector Machine\n",
        "> 5.   Decision Tree\n",
        "> 6.   K-NearestNeighbour\n",
        "> 7.   Naive Bayes\n",
        "> \n",
        "> **Firstly, model building with imbalanced data.**"
      ]
    },
    {
      "cell_type": "code",
      "metadata": {
        "colab": {
          "base_uri": "https://localhost:8080/"
        },
        "id": "gYdimOkN3cWM",
        "outputId": "1e2c138d-bd12-4fca-a2f1-6246c719dc2d"
      },
      "source": [
        "#Logistic regression\n",
        "\n",
        "logreg=LogisticRegression()\n",
        "logreg.fit(X_train,y_train)\n",
        "prediction_logreg=logreg.predict(X_test)\n",
        "print(accuracy_score(y_test,prediction_logreg))"
      ],
      "execution_count": 32,
      "outputs": [
        {
          "output_type": "stream",
          "name": "stdout",
          "text": [
            "0.7892122072391767\n"
          ]
        },
        {
          "output_type": "stream",
          "name": "stderr",
          "text": [
            "/usr/local/lib/python3.7/dist-packages/sklearn/linear_model/_logistic.py:940: ConvergenceWarning:\n",
            "\n",
            "lbfgs failed to converge (status=1):\n",
            "STOP: TOTAL NO. of ITERATIONS REACHED LIMIT.\n",
            "\n",
            "Increase the number of iterations (max_iter) or scale the data as shown in:\n",
            "    https://scikit-learn.org/stable/modules/preprocessing.html\n",
            "Please also refer to the documentation for alternative solver options:\n",
            "    https://scikit-learn.org/stable/modules/linear_model.html#logistic-regression\n",
            "\n"
          ]
        }
      ]
    },
    {
      "cell_type": "code",
      "metadata": {
        "colab": {
          "base_uri": "https://localhost:8080/"
        },
        "id": "n3eU_5Pfx4OP",
        "outputId": "056972e2-d4b5-425d-fc49-9375a3636642"
      },
      "source": [
        "#Random Forest \n",
        "##Model using random forest ensemble classifer \n",
        "\n",
        "rfc = RandomForestClassifier()\n",
        "#fit the predictor and target\n",
        "rfc.fit(X_train, y_train)\n",
        "# predict\n",
        "\n",
        "rfc_predict = rfc.predict(X_test)# check performance\n",
        "print('ROCAUC score:',roc_auc_score(y_test, rfc_predict))\n",
        "print('Accuracy score:',accuracy_score(y_test, rfc_predict))\n",
        "print('F1 score:',f1_score(y_test, rfc_predict))\n",
        "# print classification report \n",
        "predictions = rfc.predict(X_test)\n",
        "print(classification_report(y_test, predictions)) "
      ],
      "execution_count": 33,
      "outputs": [
        {
          "output_type": "stream",
          "name": "stdout",
          "text": [
            "ROCAUC score: 0.679846196268268\n",
            "Accuracy score: 0.7714691270404542\n",
            "F1 score: 0.5319767441860466\n",
            "              precision    recall  f1-score   support\n",
            "\n",
            "           0       0.82      0.88      0.85      1028\n",
            "           1       0.60      0.48      0.53       381\n",
            "\n",
            "    accuracy                           0.77      1409\n",
            "   macro avg       0.71      0.68      0.69      1409\n",
            "weighted avg       0.76      0.77      0.76      1409\n",
            "\n"
          ]
        }
      ]
    },
    {
      "cell_type": "markdown",
      "metadata": {
        "id": "lOAf09rq0-P3"
      },
      "source": [
        "**In Random Forest Classifier, Accuracy is good but other metrics like f1 score, precison and recall are not good. its because data is imbalanced, model is not giving good results.**"
      ]
    },
    {
      "cell_type": "code",
      "metadata": {
        "colab": {
          "base_uri": "https://localhost:8080/"
        },
        "id": "HcDzAcMG3Pe1",
        "outputId": "7bb31dad-b41a-430f-efff-2fb07637845c"
      },
      "source": [
        "##Gradient Boosting classifier\n",
        "xgb_model = XGBClassifier()\n",
        "xgb_model.fit(X_train, y_train)\n",
        "prediction_xgb = xgb_model.predict(X_test)\n",
        "print(accuracy_score(y_test, prediction_xgb))"
      ],
      "execution_count": 34,
      "outputs": [
        {
          "output_type": "stream",
          "name": "stdout",
          "text": [
            "0.7920511000709723\n"
          ]
        }
      ]
    },
    {
      "cell_type": "markdown",
      "metadata": {
        "id": "sLsCoRuI3hlT"
      },
      "source": [
        "**Conclusion Of all three algorithm: Logistic regression, Random Forest and XGboost algorithm shows almost same accuracy which is 79%  but need to improve further for better accuracy.**   "
      ]
    },
    {
      "cell_type": "code",
      "metadata": {
        "id": "h4G0b1VA4FWG"
      },
      "source": [
        "#Create a svm Classifier\n",
        "clf = svm.SVC(kernel='linear') # Linear Kernel\n",
        "\n",
        "#Train the model using the training sets\n",
        "clf.fit(X_train, y_train)\n",
        "\n",
        "#Predict the response for test dataset\n",
        "y_pred = clf.predict(X_test)"
      ],
      "execution_count": 35,
      "outputs": []
    },
    {
      "cell_type": "code",
      "metadata": {
        "colab": {
          "base_uri": "https://localhost:8080/"
        },
        "id": "jxjqgp1bCIP3",
        "outputId": "295d7b5a-db33-4fb9-96d0-dd162164b3b7"
      },
      "source": [
        "print('ROCAUC score:',roc_auc_score(y_test, y_pred))\n",
        "print('Accuracy score:',accuracy_score(y_test, y_pred))\n",
        "print('F1 score:',f1_score(y_test, y_pred))\n",
        "# print classification report \n",
        "predictions = clf.predict(X_test)\n",
        "print(classification_report(y_test, predictions)) "
      ],
      "execution_count": 36,
      "outputs": [
        {
          "output_type": "stream",
          "name": "stdout",
          "text": [
            "ROCAUC score: 0.6724674979829856\n",
            "Accuracy score: 0.7799858055358411\n",
            "F1 score: 0.5186335403726708\n",
            "              precision    recall  f1-score   support\n",
            "\n",
            "           0       0.81      0.91      0.86      1028\n",
            "           1       0.63      0.44      0.52       381\n",
            "\n",
            "    accuracy                           0.78      1409\n",
            "   macro avg       0.72      0.67      0.69      1409\n",
            "weighted avg       0.77      0.78      0.77      1409\n",
            "\n"
          ]
        }
      ]
    },
    {
      "cell_type": "markdown",
      "metadata": {
        "id": "0WnMbYtMCxwu"
      },
      "source": [
        ">**Support vector machine algorithm also giving 78% accuracy**"
      ]
    },
    {
      "cell_type": "markdown",
      "metadata": {
        "id": "HlU-6uRuDC96"
      },
      "source": [
        ">**4 algorithms with imbalanced data. baseline models are done \n",
        "Now need to balance the data.**"
      ]
    },
    {
      "cell_type": "markdown",
      "metadata": {
        "id": "EM0IFSXvDf7o"
      },
      "source": [
        ">**Data balancing**\n",
        "1. SMOTE technique: use SMOTE to oversample the minority class to balance the class distribution."
      ]
    },
    {
      "cell_type": "code",
      "metadata": {
        "colab": {
          "base_uri": "https://localhost:8080/"
        },
        "id": "RSm3qEBSDebF",
        "outputId": "83fe4813-9d18-42e0-c74f-e792cadaead6"
      },
      "source": [
        "print(\"Before OverSampling, counts of label '1': {}\".format(sum(y_train == 1))) \n",
        "print(\"Before OverSampling, counts of label '0': {} \\n\".format(sum(y_train == 0))) \n",
        "  \n",
        "sm = SMOTE(random_state = 2) \n",
        "x_train_res, y_train_res = sm.fit_sample(X_train, y_train.ravel()) \n",
        "  \n",
        "print('After OverSampling, the shape of train_x: {}'.format(x_train_res.shape)) \n",
        "print('After OverSampling, the shape of train_y: {} \\n'.format(y_train_res.shape)) \n",
        "  \n",
        "print(\"After OverSampling, counts of label '1': {}\".format(sum(y_train_res == 1))) \n",
        "print(\"After OverSampling, counts of label '0': {}\".format(sum(y_train_res == 0))) "
      ],
      "execution_count": 37,
      "outputs": [
        {
          "output_type": "stream",
          "name": "stdout",
          "text": [
            "Before OverSampling, counts of label '1': 1488\n",
            "Before OverSampling, counts of label '0': 4146 \n",
            "\n",
            "After OverSampling, the shape of train_x: (8292, 15)\n",
            "After OverSampling, the shape of train_y: (8292,) \n",
            "\n",
            "After OverSampling, counts of label '1': 4146\n",
            "After OverSampling, counts of label '0': 4146\n"
          ]
        },
        {
          "output_type": "stream",
          "name": "stderr",
          "text": [
            "/usr/local/lib/python3.7/dist-packages/sklearn/utils/deprecation.py:87: FutureWarning:\n",
            "\n",
            "Function safe_indexing is deprecated; safe_indexing is deprecated in version 0.22 and will be removed in version 0.24.\n",
            "\n"
          ]
        }
      ]
    },
    {
      "cell_type": "markdown",
      "metadata": {
        "id": "rc3Rq8lX4pdc"
      },
      "source": [
        ">**model test after data balancing using logistic regression**"
      ]
    },
    {
      "cell_type": "code",
      "metadata": {
        "colab": {
          "base_uri": "https://localhost:8080/"
        },
        "id": "LeotYMCEFMLw",
        "outputId": "d99d181e-559f-4d25-8150-382612620d28"
      },
      "source": [
        "#prediction and recall\n",
        "lr1 = LogisticRegression() \n",
        "lr1.fit(x_train_res, y_train_res.ravel()) \n",
        "predictions = lr1.predict(X_test) \n",
        "  \n",
        "# print classification report \n",
        "print(classification_report(y_test, predictions))"
      ],
      "execution_count": 38,
      "outputs": [
        {
          "output_type": "stream",
          "name": "stdout",
          "text": [
            "              precision    recall  f1-score   support\n",
            "\n",
            "           0       0.91      0.71      0.80      1028\n",
            "           1       0.51      0.80      0.62       381\n",
            "\n",
            "    accuracy                           0.73      1409\n",
            "   macro avg       0.71      0.76      0.71      1409\n",
            "weighted avg       0.80      0.73      0.75      1409\n",
            "\n"
          ]
        },
        {
          "output_type": "stream",
          "name": "stderr",
          "text": [
            "/usr/local/lib/python3.7/dist-packages/sklearn/linear_model/_logistic.py:940: ConvergenceWarning:\n",
            "\n",
            "lbfgs failed to converge (status=1):\n",
            "STOP: TOTAL NO. of ITERATIONS REACHED LIMIT.\n",
            "\n",
            "Increase the number of iterations (max_iter) or scale the data as shown in:\n",
            "    https://scikit-learn.org/stable/modules/preprocessing.html\n",
            "Please also refer to the documentation for alternative solver options:\n",
            "    https://scikit-learn.org/stable/modules/linear_model.html#logistic-regression\n",
            "\n"
          ]
        }
      ]
    },
    {
      "cell_type": "markdown",
      "metadata": {
        "id": "9tqGe1NTPiHt"
      },
      "source": [
        ">**After data balancing with SMOTE upsampling technique, Logistic Regression accuracy decreased.** "
      ]
    },
    {
      "cell_type": "markdown",
      "metadata": {
        "id": "H2ICzqo-FXPl"
      },
      "source": [
        "\n",
        "\n",
        "---\n",
        "\n"
      ]
    },
    {
      "cell_type": "markdown",
      "metadata": {
        "id": "1wVWeavVP2gU"
      },
      "source": [
        ">**Model Evaluation**\n",
        "1. Grid search \n",
        "2. Randomized search "
      ]
    },
    {
      "cell_type": "code",
      "metadata": {
        "id": "OKNDjtjqFz-a"
      },
      "source": [
        "#Finding out optimum k-value using elbow method\n",
        "\n",
        "def find_k_KNN(x_train, x_test, y_train, y_test):\n",
        "    error_rate = []\n",
        "\n",
        "    # calculating error rate\n",
        "    for i in range(1,40):\n",
        "        knn = KNeighborsClassifier(n_neighbors=i)\n",
        "        knn.fit(X_train, y_train)\n",
        "        pred_i = knn.predict(x_test)\n",
        "        error_rate.append(np.mean(pred_i != y_test))\n",
        "\n",
        "\n",
        "    # Plotting elbow graph\n",
        "    plt.figure(figsize=(10,6))\n",
        "    plt.plot(range(1,40), error_rate, color=\"Blue\", linestyle=\"dashed\", marker=\"o\",\n",
        "             markerfacecolor=\"red\", markersize=10)\n",
        "    plt.title(\"Error Rate vs. K Value\")\n",
        "    plt.xticks(range(1,40))\n",
        "    plt.xlabel(\"K\")\n",
        "    plt.ylabel(\"Error Rate\")"
      ],
      "execution_count": 39,
      "outputs": []
    },
    {
      "cell_type": "code",
      "metadata": {
        "id": "WmSirkCVGX0D"
      },
      "source": [
        "\n",
        "def train_models(X_train, y_train, k_values):\n",
        "    # defining models\n",
        "    models = [LogisticRegression(penalty = 'l2'), RandomForestClassifier(), \n",
        "              XGBClassifier(use_label_encoder=False, verbosity = 0, eval_metric='logloss', tree_method = 'gpu_hist', \n",
        "                            predictor = 'gpu_predictor'),\n",
        "              KNeighborsClassifier(), tree.DecisionTreeClassifier(), GaussianNB(), svm.SVC()]\n",
        "\n",
        "   # defining model names\n",
        "    model_names = ['Logistic Regression', 'Random Forest', 'Gradient Boosting Classifier', 'KNN', 'Decision Tree', \n",
        "                   'Naive Bayes', 'Support Vector Machines']\n",
        "\n",
        "    # defining parameters\n",
        "\n",
        "    parameters = [{'solver':['newton-cg', 'lbfgs', 'liblinear', 'sag', 'saga']}, # logistic regression\n",
        "\n",
        "                 {'n_estimators':[100, 300, 500, 600, 700, 1000], 'criterion':['gini', 'entropy'], \n",
        "                  'max_depth' : [10, 20, 25, 30, 35, 40], 'min_samples_split': [100, 200, 50, 25]}, # random forest classifier\n",
        "\n",
        "                 {\"learning_rate\"    : [0.05, 0.10, 0.15, 0.20, 0.25, 0.30 ] , \"max_depth\": [ 3, 4, 5, 6, 8, 10, 12, 15],\n",
        "                  \"min_child_weight\" : [ 1, 3, 5, 7 ], \"gamma\": [ 0.0, 0.1, 0.2 , 0.3, 0.4 ], \"colsample_bytree\" : [ 0.3, 0.4, 0.5 , 0.7 ], \n",
        "                  \"n_estimators\": [100, 120, 135, 150, 165, 200]}, # xgb classifier\n",
        "\n",
        "                 {'n_neighbors' : k_values}, # kNN\n",
        "\n",
        "                {'criterion':['gini', 'entropy'], 'max_depth' : [10, 20, 25, 30, 35, 40], 'min_samples_split': [100, 200, 50, 25]}, # decision tree\n",
        "\n",
        "                {}, # naive bayes\n",
        "\n",
        "                {'kernel': ['linear', 'poly', 'rbf', 'sigmoid']} # svm\n",
        "                 ]\n",
        "    \n",
        "    \n",
        "    # training the models\n",
        "\n",
        "    for model_idx in range(len(models)):\n",
        "        \n",
        "        \n",
        "        if model_names[model_idx] in ['Logistic Regression', 'KNN', 'Naive Bayes', 'Support Vector Machines']:\n",
        "            classifier = GridSearchCV(estimator = models[model_idx], param_grid = parameters[model_idx], n_jobs=-1)\n",
        "        else:\n",
        "            classifier = RandomizedSearchCV(estimator = models[model_idx], param_distributions = parameters[model_idx], random_state=0, n_jobs=-1)\n",
        "\n",
        "        classifier.fit(X_train, y_train)\n",
        "\n",
        "        print(model_names[model_idx])\n",
        "        print(classifier.best_estimator_)\n",
        "        models[model_idx] = classifier.best_estimator_ # updating the model with best hyperparameters as per training data\n",
        "        \n",
        "        print(f'Best train score: { classifier.best_score_}')\n",
        "        print(classifier.best_params_)\n",
        "        print(\"\\n******************************************************************************************************************\\n\")\n",
        "    \n",
        "    return (models, model_names)\n"
      ],
      "execution_count": 40,
      "outputs": []
    },
    {
      "cell_type": "code",
      "metadata": {
        "id": "9ikr5cW6HODu"
      },
      "source": [
        "def test_models(X_train, X_test, y_train, y_test, models, model_names):\n",
        "    for classifier_idx in range(len(models)):\n",
        "        models[classifier_idx].fit(X_train, y_train)\n",
        "        y_pred = models[classifier_idx].predict(X_test)\n",
        "        \n",
        "        print(model_names[classifier_idx])\n",
        "        print(f'{models[classifier_idx].score(X_test, y_test)*100}')\n",
        "        print(\"\\n####################\")\n",
        "        print(classification_report(y_test, y_pred))\n",
        "        print(\"\\n\\n******************************************************************************************************************\\n\\n\")"
      ],
      "execution_count": 41,
      "outputs": []
    },
    {
      "cell_type": "code",
      "metadata": {
        "colab": {
          "base_uri": "https://localhost:8080/",
          "height": 404
        },
        "id": "EyprJIDpIaXY",
        "outputId": "5a62bf6a-7641-4637-e905-f62714633271"
      },
      "source": [
        "find_k_KNN(X_train, X_test, y_train, y_test) # decide using the pictorial graph"
      ],
      "execution_count": 42,
      "outputs": [
        {
          "output_type": "display_data",
          "data": {
            "image/png": "[encoded data removed]",
            "text/plain": [
              "<Figure size 720x432 with 1 Axes>"
            ]
          },
          "metadata": {
            "needs_background": "light"
          }
        }
      ]
    },
    {
      "cell_type": "code",
      "metadata": {
        "colab": {
          "base_uri": "https://localhost:8080/"
        },
        "id": "9VrNlPX4I8cM",
        "outputId": "746b8073-35bb-49af-ac8b-6cd56718e4a8"
      },
      "source": [
        "k_values = [2, 4, 6]\n",
        "\n",
        "# for training the models to find the best estimators based on training score\n",
        "models, model_names = train_models(X_train, y_train, k_values)"
      ],
      "execution_count": 43,
      "outputs": [
        {
          "output_type": "stream",
          "name": "stdout",
          "text": [
            "Logistic Regression\n",
            "LogisticRegression(C=1.0, class_weight=None, dual=False, fit_intercept=True,\n",
            "                   intercept_scaling=1, l1_ratio=None, max_iter=100,\n",
            "                   multi_class='auto', n_jobs=None, penalty='l2',\n",
            "                   random_state=None, solver='newton-cg', tol=0.0001, verbose=0,\n",
            "                   warm_start=False)\n",
            "Best train score: 0.8022717064275706\n",
            "{'solver': 'newton-cg'}\n",
            "\n",
            "******************************************************************************************************************\n",
            "\n",
            "Random Forest\n",
            "RandomForestClassifier(bootstrap=True, ccp_alpha=0.0, class_weight=None,\n",
            "                       criterion='gini', max_depth=10, max_features='auto',\n",
            "                       max_leaf_nodes=None, max_samples=None,\n",
            "                       min_impurity_decrease=0.0, min_impurity_split=None,\n",
            "                       min_samples_leaf=1, min_samples_split=50,\n",
            "                       min_weight_fraction_leaf=0.0, n_estimators=600,\n",
            "                       n_jobs=None, oob_score=False, random_state=None,\n",
            "                       verbose=0, warm_start=False)\n",
            "Best train score: 0.8008532689467787\n",
            "{'n_estimators': 600, 'min_samples_split': 50, 'max_depth': 10, 'criterion': 'gini'}\n",
            "\n",
            "******************************************************************************************************************\n",
            "\n",
            "Gradient Boosting Classifier\n",
            "XGBClassifier(base_score=0.5, booster='gbtree', colsample_bylevel=1,\n",
            "              colsample_bynode=1, colsample_bytree=0.4, eval_metric='logloss',\n",
            "              gamma=0.3, learning_rate=0.05, max_delta_step=0, max_depth=3,\n",
            "              min_child_weight=3, missing=None, n_estimators=150, n_jobs=1,\n",
            "              nthread=None, objective='binary:logistic',\n",
            "              predictor='gpu_predictor', random_state=0, reg_alpha=0,\n",
            "              reg_lambda=1, scale_pos_weight=1, seed=None, silent=None,\n",
            "              subsample=1, tree_method='gpu_hist', use_label_encoder=False,\n",
            "              verbosity=0)\n",
            "Best train score: 0.8004972411390998\n",
            "{'n_estimators': 150, 'min_child_weight': 3, 'max_depth': 3, 'learning_rate': 0.05, 'gamma': 0.3, 'colsample_bytree': 0.4}\n",
            "\n",
            "******************************************************************************************************************\n",
            "\n",
            "KNN\n",
            "KNeighborsClassifier(algorithm='auto', leaf_size=30, metric='minkowski',\n",
            "                     metric_params=None, n_jobs=None, n_neighbors=6, p=2,\n",
            "                     weights='uniform')\n",
            "Best train score: 0.7783109876895387\n",
            "{'n_neighbors': 6}\n",
            "\n",
            "******************************************************************************************************************\n",
            "\n",
            "Decision Tree\n",
            "DecisionTreeClassifier(ccp_alpha=0.0, class_weight=None, criterion='entropy',\n",
            "                       max_depth=20, max_features=None, max_leaf_nodes=None,\n",
            "                       min_impurity_decrease=0.0, min_impurity_split=None,\n",
            "                       min_samples_leaf=1, min_samples_split=200,\n",
            "                       min_weight_fraction_leaf=0.0, presort='deprecated',\n",
            "                       random_state=None, splitter='best')\n",
            "Best train score: 0.7914447731366854\n",
            "{'min_samples_split': 200, 'max_depth': 20, 'criterion': 'entropy'}\n",
            "\n",
            "******************************************************************************************************************\n",
            "\n",
            "Naive Bayes\n",
            "GaussianNB(priors=None, var_smoothing=1e-09)\n",
            "Best train score: 0.7515088234691514\n",
            "{}\n",
            "\n",
            "******************************************************************************************************************\n",
            "\n",
            "Support Vector Machines\n",
            "SVC(C=1.0, break_ties=False, cache_size=200, class_weight=None, coef0=0.0,\n",
            "    decision_function_shape='ovr', degree=3, gamma='scale', kernel='linear',\n",
            "    max_iter=-1, probability=False, random_state=None, shrinking=True,\n",
            "    tol=0.001, verbose=False)\n",
            "Best train score: 0.7960598958866889\n",
            "{'kernel': 'linear'}\n",
            "\n",
            "******************************************************************************************************************\n",
            "\n"
          ]
        }
      ]
    },
    {
      "cell_type": "code",
      "metadata": {
        "colab": {
          "base_uri": "https://localhost:8080/"
        },
        "id": "T320a7WmRdyt",
        "outputId": "a5fe2439-3c1a-4b5b-a9f2-2295676c9f5c"
      },
      "source": [
        "# for testing the models to find the best test score using the best estimated parameters for each algorithm\n",
        "test_models(X_train, X_test, y_train, y_test, models, model_names)"
      ],
      "execution_count": 44,
      "outputs": [
        {
          "output_type": "stream",
          "name": "stdout",
          "text": [
            "Logistic Regression\n",
            "78.49538679914833\n",
            "\n",
            "####################\n",
            "              precision    recall  f1-score   support\n",
            "\n",
            "           0       0.83      0.88      0.86      1028\n",
            "           1       0.62      0.52      0.57       381\n",
            "\n",
            "    accuracy                           0.78      1409\n",
            "   macro avg       0.73      0.70      0.71      1409\n",
            "weighted avg       0.78      0.78      0.78      1409\n",
            "\n",
            "\n",
            "\n",
            "******************************************************************************************************************\n",
            "\n",
            "\n",
            "Random Forest\n",
            "78.85024840312278\n",
            "\n",
            "####################\n",
            "              precision    recall  f1-score   support\n",
            "\n",
            "           0       0.82      0.90      0.86      1028\n",
            "           1       0.65      0.48      0.55       381\n",
            "\n",
            "    accuracy                           0.79      1409\n",
            "   macro avg       0.74      0.69      0.71      1409\n",
            "weighted avg       0.78      0.79      0.78      1409\n",
            "\n",
            "\n",
            "\n",
            "******************************************************************************************************************\n",
            "\n",
            "\n",
            "Gradient Boosting Classifier\n",
            "79.20511000709723\n",
            "\n",
            "####################\n",
            "              precision    recall  f1-score   support\n",
            "\n",
            "           0       0.83      0.90      0.86      1028\n",
            "           1       0.65      0.51      0.57       381\n",
            "\n",
            "    accuracy                           0.79      1409\n",
            "   macro avg       0.74      0.70      0.72      1409\n",
            "weighted avg       0.78      0.79      0.78      1409\n",
            "\n",
            "\n",
            "\n",
            "******************************************************************************************************************\n",
            "\n",
            "\n",
            "KNN\n",
            "77.14691270404542\n",
            "\n",
            "####################\n",
            "              precision    recall  f1-score   support\n",
            "\n",
            "           0       0.80      0.91      0.85      1028\n",
            "           1       0.62      0.39      0.48       381\n",
            "\n",
            "    accuracy                           0.77      1409\n",
            "   macro avg       0.71      0.65      0.67      1409\n",
            "weighted avg       0.75      0.77      0.75      1409\n",
            "\n",
            "\n",
            "\n",
            "******************************************************************************************************************\n",
            "\n",
            "\n",
            "Decision Tree\n",
            "77.57274662881476\n",
            "\n",
            "####################\n",
            "              precision    recall  f1-score   support\n",
            "\n",
            "           0       0.83      0.87      0.85      1028\n",
            "           1       0.60      0.53      0.56       381\n",
            "\n",
            "    accuracy                           0.78      1409\n",
            "   macro avg       0.71      0.70      0.71      1409\n",
            "weighted avg       0.77      0.78      0.77      1409\n",
            "\n",
            "\n",
            "\n",
            "******************************************************************************************************************\n",
            "\n",
            "\n",
            "Naive Bayes\n",
            "73.31440738112136\n",
            "\n",
            "####################\n",
            "              precision    recall  f1-score   support\n",
            "\n",
            "           0       0.89      0.73      0.80      1028\n",
            "           1       0.50      0.75      0.60       381\n",
            "\n",
            "    accuracy                           0.73      1409\n",
            "   macro avg       0.70      0.74      0.70      1409\n",
            "weighted avg       0.78      0.73      0.75      1409\n",
            "\n",
            "\n",
            "\n",
            "******************************************************************************************************************\n",
            "\n",
            "\n",
            "Support Vector Machines\n",
            "77.9985805535841\n",
            "\n",
            "####################\n",
            "              precision    recall  f1-score   support\n",
            "\n",
            "           0       0.81      0.91      0.86      1028\n",
            "           1       0.63      0.44      0.52       381\n",
            "\n",
            "    accuracy                           0.78      1409\n",
            "   macro avg       0.72      0.67      0.69      1409\n",
            "weighted avg       0.77      0.78      0.77      1409\n",
            "\n",
            "\n",
            "\n",
            "******************************************************************************************************************\n",
            "\n",
            "\n"
          ]
        }
      ]
    },
    {
      "cell_type": "markdown",
      "metadata": {
        "id": "uKycEIYtE-1w"
      },
      "source": [
        "> **In all seven algorithm, after doing Grid search and random search cross validation,  accuracy slightly improve but not as expected.\n",
        "so to improve accuracy data balancing need to be done.\n",
        "Previously i have done with SMOTE technique but it wasn't helpful to improve accuracy of model.**"
      ]
    },
    {
      "cell_type": "markdown",
      "metadata": {
        "id": "DFlTChMREcks"
      },
      "source": [
        "\n",
        "\n",
        "---\n",
        "\n"
      ]
    },
    {
      "cell_type": "markdown",
      "metadata": {
        "id": "JaWNFMXEHgBX"
      },
      "source": [
        ">**SMOTE ENN technique(UpSampling + Edited NearestNeighbour )**"
      ]
    },
    {
      "cell_type": "code",
      "metadata": {
        "id": "_xaRK5KtGPJg",
        "colab": {
          "base_uri": "https://localhost:8080/"
        },
        "outputId": "cdb192c2-8241-43cf-ccc4-db3ff960d077"
      },
      "source": [
        "sm = SMOTEENN(random_state = 42) \n",
        "# Sampling_strategy is left 'auto' which is equivalent to 'not majority', i.e., multiple copies of minority class will be generated to match the number of samples in majority class\n",
        "# Then ENN  will be used to remove the misclassified majority samples\n",
        "X_resample, y_resample = sm.fit_resample(X, y) # resampling using SMOTE"
      ],
      "execution_count": 45,
      "outputs": [
        {
          "output_type": "stream",
          "name": "stderr",
          "text": [
            "/usr/local/lib/python3.7/dist-packages/sklearn/utils/deprecation.py:87: FutureWarning:\n",
            "\n",
            "Function safe_indexing is deprecated; safe_indexing is deprecated in version 0.22 and will be removed in version 0.24.\n",
            "\n",
            "/usr/local/lib/python3.7/dist-packages/sklearn/utils/deprecation.py:87: FutureWarning:\n",
            "\n",
            "Function safe_indexing is deprecated; safe_indexing is deprecated in version 0.22 and will be removed in version 0.24.\n",
            "\n",
            "/usr/local/lib/python3.7/dist-packages/sklearn/utils/deprecation.py:87: FutureWarning:\n",
            "\n",
            "Function safe_indexing is deprecated; safe_indexing is deprecated in version 0.22 and will be removed in version 0.24.\n",
            "\n",
            "/usr/local/lib/python3.7/dist-packages/sklearn/utils/deprecation.py:87: FutureWarning:\n",
            "\n",
            "Function safe_indexing is deprecated; safe_indexing is deprecated in version 0.22 and will be removed in version 0.24.\n",
            "\n"
          ]
        }
      ]
    },
    {
      "cell_type": "code",
      "metadata": {
        "id": "RTIQ2aqoRyVR",
        "colab": {
          "base_uri": "https://localhost:8080/"
        },
        "outputId": "e11ed4a1-ffc8-4901-c14f-e054dbb7eb0d"
      },
      "source": [
        "X.shape"
      ],
      "execution_count": 46,
      "outputs": [
        {
          "output_type": "execute_result",
          "data": {
            "text/plain": [
              "(7043, 15)"
            ]
          },
          "metadata": {},
          "execution_count": 46
        }
      ]
    },
    {
      "cell_type": "code",
      "metadata": {
        "colab": {
          "base_uri": "https://localhost:8080/"
        },
        "id": "pOAHWV3bIEzv",
        "outputId": "af279dd0-794a-4db3-b488-a4ad86d0aa78"
      },
      "source": [
        "X_resample.shape   ### we can see first upsampling using SMOTE was done on minority class and then down sampling on majority class using ENN"
      ],
      "execution_count": 47,
      "outputs": [
        {
          "output_type": "execute_result",
          "data": {
            "text/plain": [
              "(5872, 15)"
            ]
          },
          "metadata": {},
          "execution_count": 47
        }
      ]
    },
    {
      "cell_type": "code",
      "metadata": {
        "colab": {
          "base_uri": "https://localhost:8080/"
        },
        "id": "2gWlrT8ghEBa",
        "outputId": "2b50a7fd-e2cb-4c31-c5be-0cc2cf416fad"
      },
      "source": [
        "y.shape"
      ],
      "execution_count": 48,
      "outputs": [
        {
          "output_type": "execute_result",
          "data": {
            "text/plain": [
              "(7043,)"
            ]
          },
          "metadata": {},
          "execution_count": 48
        }
      ]
    },
    {
      "cell_type": "code",
      "metadata": {
        "colab": {
          "base_uri": "https://localhost:8080/"
        },
        "id": "DEXvG9zWYMPw",
        "outputId": "2efa1f3e-c002-471c-eb2a-1036b97def38"
      },
      "source": [
        "X_resample"
      ],
      "execution_count": 49,
      "outputs": [
        {
          "output_type": "execute_result",
          "data": {
            "text/plain": [
              "array([[0.00000000e+00, 0.00000000e+00, 4.50000000e+01, ...,\n",
              "        1.00000000e+00, 4.23000000e+01, 1.84075000e+03],\n",
              "       [0.00000000e+00, 1.00000000e+00, 6.20000000e+01, ...,\n",
              "        1.00000000e+00, 5.61500000e+01, 3.48795000e+03],\n",
              "       [0.00000000e+00, 0.00000000e+00, 2.50000000e+01, ...,\n",
              "        0.00000000e+00, 1.05500000e+02, 2.68605000e+03],\n",
              "       ...,\n",
              "       [1.05992802e-01, 0.00000000e+00, 1.00000000e+00, ...,\n",
              "        0.00000000e+00, 9.54023032e+01, 9.54023032e+01],\n",
              "       [0.00000000e+00, 0.00000000e+00, 4.00000000e+00, ...,\n",
              "        0.00000000e+00, 7.83357238e+01, 3.17683405e+02],\n",
              "       [0.00000000e+00, 0.00000000e+00, 3.00000000e+00, ...,\n",
              "        0.00000000e+00, 4.38713040e+01, 1.27949431e+02]])"
            ]
          },
          "metadata": {},
          "execution_count": 49
        }
      ]
    },
    {
      "cell_type": "code",
      "metadata": {
        "colab": {
          "base_uri": "https://localhost:8080/"
        },
        "id": "KWHOMoO9UvX7",
        "outputId": "ad49a4a0-92fe-413b-e9f1-e7de0a5bfd61"
      },
      "source": [
        "np.unique(y, return_counts=True)"
      ],
      "execution_count": 50,
      "outputs": [
        {
          "output_type": "execute_result",
          "data": {
            "text/plain": [
              "(array([0, 1]), array([5174, 1869]))"
            ]
          },
          "metadata": {},
          "execution_count": 50
        }
      ]
    },
    {
      "cell_type": "code",
      "metadata": {
        "colab": {
          "base_uri": "https://localhost:8080/"
        },
        "id": "SCfExZpKVllF",
        "outputId": "5b66eb17-24ba-4a99-e839-fe7f1a6fd789"
      },
      "source": [
        "np.unique(y_resample, return_counts=True)"
      ],
      "execution_count": 51,
      "outputs": [
        {
          "output_type": "execute_result",
          "data": {
            "text/plain": [
              "(array([0, 1]), array([2693, 3179]))"
            ]
          },
          "metadata": {},
          "execution_count": 51
        }
      ]
    },
    {
      "cell_type": "markdown",
      "metadata": {
        "id": "gmYa1X3Q6cWA"
      },
      "source": [
        "> **Scaling**"
      ]
    },
    {
      "cell_type": "code",
      "metadata": {
        "id": "DY4dOheRXVcc"
      },
      "source": [
        "X_resample = pd.DataFrame(X_resample)"
      ],
      "execution_count": 52,
      "outputs": []
    },
    {
      "cell_type": "code",
      "metadata": {
        "id": "tX7Wvb5lI7Tp"
      },
      "source": [
        "cols = X_resample.columns # keeping the names of all columns\n",
        "X_resample = X_resample.to_numpy()\n",
        "from sklearn import preprocessing\n",
        "scaler = preprocessing.MinMaxScaler()\n",
        "x_scaled = scaler.fit_transform(X_resample)\n",
        "X_resample_scaled = pd.DataFrame(x_scaled, columns=cols)"
      ],
      "execution_count": 53,
      "outputs": []
    },
    {
      "cell_type": "code",
      "metadata": {
        "id": "8O4dQV54IcAy"
      },
      "source": [
        "# Train - test split\n",
        "# again spliting train and test data\n",
        "\n",
        "xr_train, xr_test, yr_train, yr_test = train_test_split(X_resample_scaled, y_resample, test_size=0.2)\n",
        "\n"
      ],
      "execution_count": 54,
      "outputs": []
    },
    {
      "cell_type": "code",
      "metadata": {
        "colab": {
          "base_uri": "https://localhost:8080/"
        },
        "id": "L26cxZUQd3Lg",
        "outputId": "73f947f7-dbfd-4e5d-e2d4-e97022dbde69"
      },
      "source": [
        "X_resample_scaled.shape\n"
      ],
      "execution_count": 55,
      "outputs": [
        {
          "output_type": "execute_result",
          "data": {
            "text/plain": [
              "(5872, 15)"
            ]
          },
          "metadata": {},
          "execution_count": 55
        }
      ]
    },
    {
      "cell_type": "code",
      "metadata": {
        "colab": {
          "base_uri": "https://localhost:8080/"
        },
        "id": "wtUD4yjweCEq",
        "outputId": "736f3cb5-cc8e-46d1-f054-1d544ae0d95b"
      },
      "source": [
        "y_resample.shape"
      ],
      "execution_count": 56,
      "outputs": [
        {
          "output_type": "execute_result",
          "data": {
            "text/plain": [
              "(5872,)"
            ]
          },
          "metadata": {},
          "execution_count": 56
        }
      ]
    },
    {
      "cell_type": "code",
      "metadata": {
        "id": "fgL1Lxvhqyq4"
      },
      "source": [
        "#Finding out optimum k-value using elbow method\n",
        "\n",
        "def find_k_KNN(xr_train, xr_test, yr_train, yr_test):\n",
        "    error_rate = []\n",
        "\n",
        "    # calculating error rate\n",
        "    for i in range(1,40):\n",
        "        knn = KNeighborsClassifier(n_neighbors=i)\n",
        "        knn.fit(xr_train, yr_train)\n",
        "        pred_i = knn.predict(xr_test)\n",
        "        error_rate.append(np.mean(pred_i != yr_test))\n",
        "\n",
        "\n",
        "    # Plotting elbow graph\n",
        "    plt.figure(figsize=(10,6))\n",
        "    plt.plot(range(1,40), error_rate, color=\"Blue\", linestyle=\"dashed\", marker=\"o\",\n",
        "             markerfacecolor=\"red\", markersize=10)\n",
        "    plt.title(\"Error Rate vs. K Value\")\n",
        "    plt.xticks(range(1,40))\n",
        "    plt.xlabel(\"K\")\n",
        "    plt.ylabel(\"Error Rate\")"
      ],
      "execution_count": 58,
      "outputs": []
    },
    {
      "cell_type": "code",
      "metadata": {
        "colab": {
          "base_uri": "https://localhost:8080/",
          "height": 404
        },
        "id": "thQa-IveYcCN",
        "outputId": "286218bd-97a8-4e48-86c9-c11c5743d8eb"
      },
      "source": [
        "find_k_KNN(xr_train, xr_test, yr_train, yr_test) # decide using the pictorial graph"
      ],
      "execution_count": 59,
      "outputs": [
        {
          "output_type": "display_data",
          "data": {
            "image/png": "[encoded data removed]",
            "text/plain": [
              "<Figure size 720x432 with 1 Axes>"
            ]
          },
          "metadata": {
            "needs_background": "light"
          }
        }
      ]
    },
    {
      "cell_type": "code",
      "metadata": {
        "colab": {
          "base_uri": "https://localhost:8080/"
        },
        "id": "w9sfdlS3hRnn",
        "outputId": "47b0f194-d2c0-4d8e-ec80-8abf08a44cee"
      },
      "source": [
        "k_values = [1]\n",
        "\n",
        "# for training the models to find the best estimators based on training score\n",
        "models, model_names = train_models(xr_train, yr_train, k_values)"
      ],
      "execution_count": 60,
      "outputs": [
        {
          "output_type": "stream",
          "name": "stdout",
          "text": [
            "Logistic Regression\n",
            "LogisticRegression(C=1.0, class_weight=None, dual=False, fit_intercept=True,\n",
            "                   intercept_scaling=1, l1_ratio=None, max_iter=100,\n",
            "                   multi_class='auto', n_jobs=None, penalty='l2',\n",
            "                   random_state=None, solver='newton-cg', tol=0.0001, verbose=0,\n",
            "                   warm_start=False)\n",
            "Best train score: 0.905683955316883\n",
            "{'solver': 'newton-cg'}\n",
            "\n",
            "******************************************************************************************************************\n",
            "\n",
            "Random Forest\n",
            "RandomForestClassifier(bootstrap=True, ccp_alpha=0.0, class_weight=None,\n",
            "                       criterion='gini', max_depth=20, max_features='auto',\n",
            "                       max_leaf_nodes=None, max_samples=None,\n",
            "                       min_impurity_decrease=0.0, min_impurity_split=None,\n",
            "                       min_samples_leaf=1, min_samples_split=25,\n",
            "                       min_weight_fraction_leaf=0.0, n_estimators=600,\n",
            "                       n_jobs=None, oob_score=False, random_state=None,\n",
            "                       verbose=0, warm_start=False)\n",
            "Best train score: 0.9459234586363946\n",
            "{'n_estimators': 600, 'min_samples_split': 25, 'max_depth': 20, 'criterion': 'gini'}\n",
            "\n",
            "******************************************************************************************************************\n",
            "\n",
            "Gradient Boosting Classifier\n",
            "XGBClassifier(base_score=0.5, booster='gbtree', colsample_bylevel=1,\n",
            "              colsample_bynode=1, colsample_bytree=0.5, eval_metric='logloss',\n",
            "              gamma=0.2, learning_rate=0.1, max_delta_step=0, max_depth=8,\n",
            "              min_child_weight=1, missing=None, n_estimators=165, n_jobs=1,\n",
            "              nthread=None, objective='binary:logistic',\n",
            "              predictor='gpu_predictor', random_state=0, reg_alpha=0,\n",
            "              reg_lambda=1, scale_pos_weight=1, seed=None, silent=None,\n",
            "              subsample=1, tree_method='gpu_hist', use_label_encoder=False,\n",
            "              verbosity=0)\n",
            "Best train score: 0.9565671946162736\n",
            "{'n_estimators': 165, 'min_child_weight': 1, 'max_depth': 8, 'learning_rate': 0.1, 'gamma': 0.2, 'colsample_bytree': 0.5}\n",
            "\n",
            "******************************************************************************************************************\n",
            "\n",
            "KNN\n",
            "KNeighborsClassifier(algorithm='auto', leaf_size=30, metric='minkowski',\n",
            "                     metric_params=None, n_jobs=None, n_neighbors=1, p=2,\n",
            "                     weights='uniform')\n",
            "Best train score: 0.9178209049917296\n",
            "{'n_neighbors': 1}\n",
            "\n",
            "******************************************************************************************************************\n",
            "\n",
            "Decision Tree\n",
            "DecisionTreeClassifier(ccp_alpha=0.0, class_weight=None, criterion='entropy',\n",
            "                       max_depth=10, max_features=None, max_leaf_nodes=None,\n",
            "                       min_impurity_decrease=0.0, min_impurity_split=None,\n",
            "                       min_samples_leaf=1, min_samples_split=50,\n",
            "                       min_weight_fraction_leaf=0.0, presort='deprecated',\n",
            "                       random_state=None, splitter='best')\n",
            "Best train score: 0.934423900482632\n",
            "{'min_samples_split': 50, 'max_depth': 10, 'criterion': 'entropy'}\n",
            "\n",
            "******************************************************************************************************************\n",
            "\n",
            "Naive Bayes\n",
            "GaussianNB(priors=None, var_smoothing=1e-09)\n",
            "Best train score: 0.8863131896766591\n",
            "{}\n",
            "\n",
            "******************************************************************************************************************\n",
            "\n",
            "Support Vector Machines\n",
            "SVC(C=1.0, break_ties=False, cache_size=200, class_weight=None, coef0=0.0,\n",
            "    decision_function_shape='ovr', degree=3, gamma='scale', kernel='rbf',\n",
            "    max_iter=-1, probability=False, random_state=None, shrinking=True,\n",
            "    tol=0.001, verbose=False)\n",
            "Best train score: 0.9248458069925001\n",
            "{'kernel': 'rbf'}\n",
            "\n",
            "******************************************************************************************************************\n",
            "\n"
          ]
        }
      ]
    },
    {
      "cell_type": "code",
      "metadata": {
        "colab": {
          "base_uri": "https://localhost:8080/"
        },
        "id": "nxeS7TYUjrr6",
        "outputId": "740a6129-b3e0-4357-db6f-d573d69f84fd"
      },
      "source": [
        "# for testing the models to find the best test score using the best estimated parameters for each algorithm\n",
        "test_models(xr_train, xr_test, yr_train, yr_test, models, model_names)"
      ],
      "execution_count": 61,
      "outputs": [
        {
          "output_type": "stream",
          "name": "stdout",
          "text": [
            "Logistic Regression\n",
            "90.55319148936171\n",
            "\n",
            "####################\n",
            "              precision    recall  f1-score   support\n",
            "\n",
            "           0       0.91      0.89      0.90       563\n",
            "           1       0.90      0.92      0.91       612\n",
            "\n",
            "    accuracy                           0.91      1175\n",
            "   macro avg       0.91      0.90      0.91      1175\n",
            "weighted avg       0.91      0.91      0.91      1175\n",
            "\n",
            "\n",
            "\n",
            "******************************************************************************************************************\n",
            "\n",
            "\n",
            "Random Forest\n",
            "95.06382978723404\n",
            "\n",
            "####################\n",
            "              precision    recall  f1-score   support\n",
            "\n",
            "           0       0.96      0.94      0.95       563\n",
            "           1       0.95      0.96      0.95       612\n",
            "\n",
            "    accuracy                           0.95      1175\n",
            "   macro avg       0.95      0.95      0.95      1175\n",
            "weighted avg       0.95      0.95      0.95      1175\n",
            "\n",
            "\n",
            "\n",
            "******************************************************************************************************************\n",
            "\n",
            "\n",
            "Gradient Boosting Classifier\n",
            "95.82978723404256\n",
            "\n",
            "####################\n",
            "              precision    recall  f1-score   support\n",
            "\n",
            "           0       0.97      0.95      0.96       563\n",
            "           1       0.95      0.97      0.96       612\n",
            "\n",
            "    accuracy                           0.96      1175\n",
            "   macro avg       0.96      0.96      0.96      1175\n",
            "weighted avg       0.96      0.96      0.96      1175\n",
            "\n",
            "\n",
            "\n",
            "******************************************************************************************************************\n",
            "\n",
            "\n",
            "KNN\n",
            "92.59574468085107\n",
            "\n",
            "####################\n",
            "              precision    recall  f1-score   support\n",
            "\n",
            "           0       0.95      0.89      0.92       563\n",
            "           1       0.90      0.96      0.93       612\n",
            "\n",
            "    accuracy                           0.93      1175\n",
            "   macro avg       0.93      0.92      0.93      1175\n",
            "weighted avg       0.93      0.93      0.93      1175\n",
            "\n",
            "\n",
            "\n",
            "******************************************************************************************************************\n",
            "\n",
            "\n",
            "Decision Tree\n",
            "93.19148936170212\n",
            "\n",
            "####################\n",
            "              precision    recall  f1-score   support\n",
            "\n",
            "           0       0.94      0.92      0.93       563\n",
            "           1       0.93      0.94      0.94       612\n",
            "\n",
            "    accuracy                           0.93      1175\n",
            "   macro avg       0.93      0.93      0.93      1175\n",
            "weighted avg       0.93      0.93      0.93      1175\n",
            "\n",
            "\n",
            "\n",
            "******************************************************************************************************************\n",
            "\n",
            "\n",
            "Naive Bayes\n",
            "88.42553191489361\n",
            "\n",
            "####################\n",
            "              precision    recall  f1-score   support\n",
            "\n",
            "           0       0.88      0.88      0.88       563\n",
            "           1       0.89      0.89      0.89       612\n",
            "\n",
            "    accuracy                           0.88      1175\n",
            "   macro avg       0.88      0.88      0.88      1175\n",
            "weighted avg       0.88      0.88      0.88      1175\n",
            "\n",
            "\n",
            "\n",
            "******************************************************************************************************************\n",
            "\n",
            "\n",
            "Support Vector Machines\n",
            "92.76595744680851\n",
            "\n",
            "####################\n",
            "              precision    recall  f1-score   support\n",
            "\n",
            "           0       0.93      0.92      0.92       563\n",
            "           1       0.93      0.93      0.93       612\n",
            "\n",
            "    accuracy                           0.93      1175\n",
            "   macro avg       0.93      0.93      0.93      1175\n",
            "weighted avg       0.93      0.93      0.93      1175\n",
            "\n",
            "\n",
            "\n",
            "******************************************************************************************************************\n",
            "\n",
            "\n"
          ]
        }
      ]
    },
    {
      "cell_type": "markdown",
      "metadata": {
        "id": "IcOQ9u556pfh"
      },
      "source": [
        ">**Best model among all models, finalized model**"
      ]
    },
    {
      "cell_type": "code",
      "metadata": {
        "id": "KzgRploZrnYH"
      },
      "source": [
        "# choosing the final model depending on best test scores\n",
        "\n",
        "classifier = XGBClassifier(base_score=0.5, booster='gbtree', colsample_bylevel=1,\n",
        "              colsample_bynode=1, colsample_bytree=0.5, gamma=0.2, gpu_id=0,\n",
        "              importance_type='gain', interaction_constraints='',\n",
        "              learning_rate=0.1, max_delta_step=0, max_depth=8,\n",
        "              min_child_weight=1, missing=np.nan, \n",
        "              n_estimators=165, n_jobs=4, num_parallel_tree=1, random_state=0,\n",
        "              reg_alpha=0, reg_lambda=1, scale_pos_weight=1, subsample=1,\n",
        "              tree_method='exact', use_label_encoder=False,\n",
        "              validate_parameters=1, verbosity = 0, eval_metric='logloss')\n",
        "\n",
        "classifier.fit(xr_train, yr_train)\n",
        "yr_pred = classifier.predict(xr_test)\n",
        "\n"
      ],
      "execution_count": 62,
      "outputs": []
    },
    {
      "cell_type": "code",
      "metadata": {
        "colab": {
          "base_uri": "https://localhost:8080/"
        },
        "id": "N5nGPvTpsMs5",
        "outputId": "17dccb67-2986-46da-db2e-f969eb59c09d"
      },
      "source": [
        "print(classification_report(yr_test, yr_pred))"
      ],
      "execution_count": 63,
      "outputs": [
        {
          "output_type": "stream",
          "name": "stdout",
          "text": [
            "              precision    recall  f1-score   support\n",
            "\n",
            "           0       0.96      0.94      0.95       563\n",
            "           1       0.95      0.97      0.96       612\n",
            "\n",
            "    accuracy                           0.96      1175\n",
            "   macro avg       0.96      0.96      0.96      1175\n",
            "weighted avg       0.96      0.96      0.96      1175\n",
            "\n"
          ]
        }
      ]
    },
    {
      "cell_type": "markdown",
      "metadata": {
        "id": "HXxAQr4Y6yP7"
      },
      "source": [
        "**XG boost is giving best model accuracy after applying data balancing with SMOTEENN method accuracy improved effectively.**"
      ]
    }
  ]
}